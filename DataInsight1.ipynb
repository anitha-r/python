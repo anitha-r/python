{
 "cells": [
  {
   "cell_type": "code",
   "execution_count": 118,
   "metadata": {},
   "outputs": [],
   "source": [
    "##Reference - https://towardsdatascience.com/practical-statistics-visualization-with-python-plotly-770e96e35067\n",
    "##Reference - https://eazybi.com/blog/data_visualization_and_chart_types\n",
    "##Reference - https://www.shanelynn.ie/bar-plots-in-python-using-pandas-dataframes/\n",
    "import pandas as pd\n",
    "import numpy as np\n",
    "import matplotlib.pyplot as plt"
   ]
  },
  {
   "cell_type": "code",
   "execution_count": 108,
   "metadata": {},
   "outputs": [
    {
     "data": {
      "text/html": [
       "        <script type=\"text/javascript\">\n",
       "        window.PlotlyConfig = {MathJaxConfig: 'local'};\n",
       "        if (window.MathJax) {MathJax.Hub.Config({SVG: {font: \"STIX-Web\"}});}\n",
       "        if (typeof require !== 'undefined') {\n",
       "        require.undef(\"plotly\");\n",
       "        requirejs.config({\n",
       "            paths: {\n",
       "                'plotly': ['https://cdn.plot.ly/plotly-latest.min']\n",
       "            }\n",
       "        });\n",
       "        require(['plotly'], function(Plotly) {\n",
       "            window._Plotly = Plotly;\n",
       "        });\n",
       "        }\n",
       "        </script>\n",
       "        "
      ]
     },
     "metadata": {},
     "output_type": "display_data"
    },
    {
     "data": {
      "text/html": [
       "        <script type=\"text/javascript\">\n",
       "        window.PlotlyConfig = {MathJaxConfig: 'local'};\n",
       "        if (window.MathJax) {MathJax.Hub.Config({SVG: {font: \"STIX-Web\"}});}\n",
       "        if (typeof require !== 'undefined') {\n",
       "        require.undef(\"plotly\");\n",
       "        requirejs.config({\n",
       "            paths: {\n",
       "                'plotly': ['https://cdn.plot.ly/plotly-latest.min']\n",
       "            }\n",
       "        });\n",
       "        require(['plotly'], function(Plotly) {\n",
       "            window._Plotly = Plotly;\n",
       "        });\n",
       "        }\n",
       "        </script>\n",
       "        "
      ]
     },
     "metadata": {},
     "output_type": "display_data"
    },
    {
     "data": {
      "text/html": [
       "        <script type=\"text/javascript\">\n",
       "        window.PlotlyConfig = {MathJaxConfig: 'local'};\n",
       "        if (window.MathJax) {MathJax.Hub.Config({SVG: {font: \"STIX-Web\"}});}\n",
       "        if (typeof require !== 'undefined') {\n",
       "        require.undef(\"plotly\");\n",
       "        requirejs.config({\n",
       "            paths: {\n",
       "                'plotly': ['https://cdn.plot.ly/plotly-latest.min']\n",
       "            }\n",
       "        });\n",
       "        require(['plotly'], function(Plotly) {\n",
       "            window._Plotly = Plotly;\n",
       "        });\n",
       "        }\n",
       "        </script>\n",
       "        "
      ]
     },
     "metadata": {},
     "output_type": "display_data"
    }
   ],
   "source": [
    "import seaborn as sns\n",
    "from plotly.offline import init_notebook_mode, iplot\n",
    "import plotly.figure_factory as ff\n",
    "import cufflinks\n",
    "cufflinks.go_offline()\n",
    "cufflinks.set_config_file(offline=True, world_readable=True, theme='White')\n",
    "import plotly.graph_objs as go\n",
    "##import plotly.plotly as py\n",
    "import plotly\n",
    "from plotly import tools\n",
    "##plotly.tools.set_credentials_file(username='XXX', api_key='XXX')\n",
    "init_notebook_mode(connected=True)\n",
    "pd.set_option('display.max_columns', 100)"
   ]
  },
  {
   "cell_type": "code",
   "execution_count": 34,
   "metadata": {},
   "outputs": [
    {
     "data": {
      "text/html": [
       "<div>\n",
       "<style scoped>\n",
       "    .dataframe tbody tr th:only-of-type {\n",
       "        vertical-align: middle;\n",
       "    }\n",
       "\n",
       "    .dataframe tbody tr th {\n",
       "        vertical-align: top;\n",
       "    }\n",
       "\n",
       "    .dataframe thead th {\n",
       "        text-align: right;\n",
       "    }\n",
       "</style>\n",
       "<table border=\"1\" class=\"dataframe\">\n",
       "  <thead>\n",
       "    <tr style=\"text-align: right;\">\n",
       "      <th></th>\n",
       "      <th>Country</th>\n",
       "      <th>Year</th>\n",
       "      <th>Drivers/passengers of 4-wheeled vehicles</th>\n",
       "      <th>Drivers/passengers of motorized 2- or 3-wheelers</th>\n",
       "      <th>Cyclists</th>\n",
       "      <th>Pedestrians</th>\n",
       "      <th>Other/unspecified road users</th>\n",
       "    </tr>\n",
       "  </thead>\n",
       "  <tbody>\n",
       "    <tr>\n",
       "      <th>123</th>\n",
       "      <td>Sri Lanka</td>\n",
       "      <td>2016</td>\n",
       "      <td>NaN</td>\n",
       "      <td>50.8</td>\n",
       "      <td>8.1</td>\n",
       "      <td>28.6</td>\n",
       "      <td>5.7</td>\n",
       "    </tr>\n",
       "    <tr>\n",
       "      <th>124</th>\n",
       "      <td>Sudan</td>\n",
       "      <td>2016</td>\n",
       "      <td>33.8</td>\n",
       "      <td>NaN</td>\n",
       "      <td>NaN</td>\n",
       "      <td>14.9</td>\n",
       "      <td>71.4</td>\n",
       "    </tr>\n",
       "    <tr>\n",
       "      <th>125</th>\n",
       "      <td>Suriname</td>\n",
       "      <td>2016</td>\n",
       "      <td>53.7</td>\n",
       "      <td>45.9</td>\n",
       "      <td>4.1</td>\n",
       "      <td>15.6</td>\n",
       "      <td>1.4</td>\n",
       "    </tr>\n",
       "    <tr>\n",
       "      <th>126</th>\n",
       "      <td>Sweden</td>\n",
       "      <td>2016</td>\n",
       "      <td>34.7</td>\n",
       "      <td>16.3</td>\n",
       "      <td>8.1</td>\n",
       "      <td>NaN</td>\n",
       "      <td>6.3</td>\n",
       "    </tr>\n",
       "    <tr>\n",
       "      <th>127</th>\n",
       "      <td>Switzerland</td>\n",
       "      <td>2016</td>\n",
       "      <td>18.8</td>\n",
       "      <td>22.7</td>\n",
       "      <td>15.3</td>\n",
       "      <td>23.1</td>\n",
       "      <td>4.2</td>\n",
       "    </tr>\n",
       "    <tr>\n",
       "      <th>128</th>\n",
       "      <td>Syrian Arab Republic</td>\n",
       "      <td>2016</td>\n",
       "      <td>57.4h</td>\n",
       "      <td>6.4</td>\n",
       "      <td>5.9</td>\n",
       "      <td>64.7</td>\n",
       "      <td>4.2</td>\n",
       "    </tr>\n",
       "    <tr>\n",
       "      <th>129</th>\n",
       "      <td>Tajikistan</td>\n",
       "      <td>2016</td>\n",
       "      <td>12.3</td>\n",
       "      <td>NaN</td>\n",
       "      <td>2.3</td>\n",
       "      <td>40.3</td>\n",
       "      <td>0.0</td>\n",
       "    </tr>\n",
       "    <tr>\n",
       "      <th>130</th>\n",
       "      <td>Thailand</td>\n",
       "      <td>2016</td>\n",
       "      <td>46.6</td>\n",
       "      <td>74.4</td>\n",
       "      <td>3.5</td>\n",
       "      <td>7.6</td>\n",
       "      <td>2.3</td>\n",
       "    </tr>\n",
       "    <tr>\n",
       "      <th>131</th>\n",
       "      <td>Timor-Leste</td>\n",
       "      <td>2016</td>\n",
       "      <td>17.3</td>\n",
       "      <td>NaN</td>\n",
       "      <td>NaN</td>\n",
       "      <td>NaN</td>\n",
       "      <td>NaN</td>\n",
       "    </tr>\n",
       "    <tr>\n",
       "      <th>132</th>\n",
       "      <td>Togo</td>\n",
       "      <td>2016</td>\n",
       "      <td>66.7</td>\n",
       "      <td>71.6</td>\n",
       "      <td>NaN</td>\n",
       "      <td>NaN</td>\n",
       "      <td>11.1</td>\n",
       "    </tr>\n",
       "    <tr>\n",
       "      <th>133</th>\n",
       "      <td>Tonga</td>\n",
       "      <td>2016</td>\n",
       "      <td>57.8</td>\n",
       "      <td>0.0</td>\n",
       "      <td>0.0</td>\n",
       "      <td>27.8</td>\n",
       "      <td>5.6</td>\n",
       "    </tr>\n",
       "    <tr>\n",
       "      <th>134</th>\n",
       "      <td>Trinidad and Tobago</td>\n",
       "      <td>2016</td>\n",
       "      <td>49.3h</td>\n",
       "      <td>2.2</td>\n",
       "      <td>0.7</td>\n",
       "      <td>31.1</td>\n",
       "      <td>8.1</td>\n",
       "    </tr>\n",
       "    <tr>\n",
       "      <th>135</th>\n",
       "      <td>Tunisia</td>\n",
       "      <td>2016</td>\n",
       "      <td>21.7</td>\n",
       "      <td>22.9</td>\n",
       "      <td>2.5</td>\n",
       "      <td>24.6</td>\n",
       "      <td>0.7</td>\n",
       "    </tr>\n",
       "    <tr>\n",
       "      <th>136</th>\n",
       "      <td>Turkey</td>\n",
       "      <td>2016</td>\n",
       "      <td>NaN</td>\n",
       "      <td>14.9</td>\n",
       "      <td>1.9</td>\n",
       "      <td>23.4</td>\n",
       "      <td>38.0</td>\n",
       "    </tr>\n",
       "    <tr>\n",
       "      <th>137</th>\n",
       "      <td>Turkmenistan</td>\n",
       "      <td>2016</td>\n",
       "      <td>21.3</td>\n",
       "      <td>NaN</td>\n",
       "      <td>NaN</td>\n",
       "      <td>NaN</td>\n",
       "      <td>NaN</td>\n",
       "    </tr>\n",
       "    <tr>\n",
       "      <th>138</th>\n",
       "      <td>Uganda</td>\n",
       "      <td>2016</td>\n",
       "      <td>34.0</td>\n",
       "      <td>33.4</td>\n",
       "      <td>5.8</td>\n",
       "      <td>39.5</td>\n",
       "      <td>0.0</td>\n",
       "    </tr>\n",
       "    <tr>\n",
       "      <th>139</th>\n",
       "      <td>Ukraine</td>\n",
       "      <td>2016</td>\n",
       "      <td>54.5</td>\n",
       "      <td>8.7</td>\n",
       "      <td>7.1</td>\n",
       "      <td>41.9</td>\n",
       "      <td>8.4</td>\n",
       "    </tr>\n",
       "    <tr>\n",
       "      <th>140</th>\n",
       "      <td>United Arab Emirates</td>\n",
       "      <td>2016</td>\n",
       "      <td>46.2</td>\n",
       "      <td>5.5</td>\n",
       "      <td>1.5</td>\n",
       "      <td>24.3</td>\n",
       "      <td>14.2</td>\n",
       "    </tr>\n",
       "    <tr>\n",
       "      <th>141</th>\n",
       "      <td>United Kingdom of Great Britain and Northern I...</td>\n",
       "      <td>2016</td>\n",
       "      <td>38.5</td>\n",
       "      <td>20.5</td>\n",
       "      <td>5.5</td>\n",
       "      <td>23.7</td>\n",
       "      <td>4.1</td>\n",
       "    </tr>\n",
       "    <tr>\n",
       "      <th>142</th>\n",
       "      <td>United Republic of Tanzania</td>\n",
       "      <td>2016</td>\n",
       "      <td>63.9</td>\n",
       "      <td>22.7</td>\n",
       "      <td>8.0</td>\n",
       "      <td>29.9</td>\n",
       "      <td>0.8</td>\n",
       "    </tr>\n",
       "    <tr>\n",
       "      <th>143</th>\n",
       "      <td>United States of America</td>\n",
       "      <td>2016</td>\n",
       "      <td>30.7</td>\n",
       "      <td>14.2</td>\n",
       "      <td>2.3</td>\n",
       "      <td>15.3</td>\n",
       "      <td>4.2</td>\n",
       "    </tr>\n",
       "    <tr>\n",
       "      <th>144</th>\n",
       "      <td>Uruguay</td>\n",
       "      <td>2016</td>\n",
       "      <td>NaN</td>\n",
       "      <td>45.7</td>\n",
       "      <td>7.0</td>\n",
       "      <td>16.6</td>\n",
       "      <td>0.0</td>\n",
       "    </tr>\n",
       "    <tr>\n",
       "      <th>145</th>\n",
       "      <td>Viet Nam</td>\n",
       "      <td>2016</td>\n",
       "      <td>52.2</td>\n",
       "      <td>NaN</td>\n",
       "      <td>NaN</td>\n",
       "      <td>NaN</td>\n",
       "      <td>NaN</td>\n",
       "    </tr>\n",
       "    <tr>\n",
       "      <th>146</th>\n",
       "      <td>Zambia</td>\n",
       "      <td>2013</td>\n",
       "      <td>48.4</td>\n",
       "      <td>NaN</td>\n",
       "      <td>11.6</td>\n",
       "      <td>36.4</td>\n",
       "      <td>NaN</td>\n",
       "    </tr>\n",
       "    <tr>\n",
       "      <th>147</th>\n",
       "      <td>Zimbabwe</td>\n",
       "      <td>2016</td>\n",
       "      <td>NaN</td>\n",
       "      <td>10.2</td>\n",
       "      <td>12.2</td>\n",
       "      <td>13.7</td>\n",
       "      <td>37.2</td>\n",
       "    </tr>\n",
       "  </tbody>\n",
       "</table>\n",
       "</div>"
      ],
      "text/plain": [
       "                                               Country  Year  \\\n",
       "123                                          Sri Lanka  2016   \n",
       "124                                              Sudan  2016   \n",
       "125                                           Suriname  2016   \n",
       "126                                             Sweden  2016   \n",
       "127                                        Switzerland  2016   \n",
       "128                               Syrian Arab Republic  2016   \n",
       "129                                         Tajikistan  2016   \n",
       "130                                           Thailand  2016   \n",
       "131                                        Timor-Leste  2016   \n",
       "132                                               Togo  2016   \n",
       "133                                              Tonga  2016   \n",
       "134                                Trinidad and Tobago  2016   \n",
       "135                                            Tunisia  2016   \n",
       "136                                             Turkey  2016   \n",
       "137                                       Turkmenistan  2016   \n",
       "138                                             Uganda  2016   \n",
       "139                                            Ukraine  2016   \n",
       "140                               United Arab Emirates  2016   \n",
       "141  United Kingdom of Great Britain and Northern I...  2016   \n",
       "142                        United Republic of Tanzania  2016   \n",
       "143                           United States of America  2016   \n",
       "144                                            Uruguay  2016   \n",
       "145                                           Viet Nam  2016   \n",
       "146                                             Zambia  2013   \n",
       "147                                           Zimbabwe  2016   \n",
       "\n",
       "    Drivers/passengers of 4-wheeled vehicles  \\\n",
       "123                                      NaN   \n",
       "124                                     33.8   \n",
       "125                                     53.7   \n",
       "126                                     34.7   \n",
       "127                                     18.8   \n",
       "128                                    57.4h   \n",
       "129                                     12.3   \n",
       "130                                     46.6   \n",
       "131                                     17.3   \n",
       "132                                     66.7   \n",
       "133                                     57.8   \n",
       "134                                    49.3h   \n",
       "135                                     21.7   \n",
       "136                                      NaN   \n",
       "137                                     21.3   \n",
       "138                                     34.0   \n",
       "139                                     54.5   \n",
       "140                                     46.2   \n",
       "141                                     38.5   \n",
       "142                                     63.9   \n",
       "143                                     30.7   \n",
       "144                                      NaN   \n",
       "145                                     52.2   \n",
       "146                                     48.4   \n",
       "147                                      NaN   \n",
       "\n",
       "     Drivers/passengers of motorized 2- or 3-wheelers  Cyclists  Pedestrians  \\\n",
       "123                                              50.8       8.1         28.6   \n",
       "124                                               NaN       NaN         14.9   \n",
       "125                                              45.9       4.1         15.6   \n",
       "126                                              16.3       8.1          NaN   \n",
       "127                                              22.7      15.3         23.1   \n",
       "128                                               6.4       5.9         64.7   \n",
       "129                                               NaN       2.3         40.3   \n",
       "130                                              74.4       3.5          7.6   \n",
       "131                                               NaN       NaN          NaN   \n",
       "132                                              71.6       NaN          NaN   \n",
       "133                                               0.0       0.0         27.8   \n",
       "134                                               2.2       0.7         31.1   \n",
       "135                                              22.9       2.5         24.6   \n",
       "136                                              14.9       1.9         23.4   \n",
       "137                                               NaN       NaN          NaN   \n",
       "138                                              33.4       5.8         39.5   \n",
       "139                                               8.7       7.1         41.9   \n",
       "140                                               5.5       1.5         24.3   \n",
       "141                                              20.5       5.5         23.7   \n",
       "142                                              22.7       8.0         29.9   \n",
       "143                                              14.2       2.3         15.3   \n",
       "144                                              45.7       7.0         16.6   \n",
       "145                                               NaN       NaN          NaN   \n",
       "146                                               NaN      11.6         36.4   \n",
       "147                                              10.2      12.2         13.7   \n",
       "\n",
       "     Other/unspecified road users  \n",
       "123                           5.7  \n",
       "124                          71.4  \n",
       "125                           1.4  \n",
       "126                           6.3  \n",
       "127                           4.2  \n",
       "128                           4.2  \n",
       "129                           0.0  \n",
       "130                           2.3  \n",
       "131                           NaN  \n",
       "132                          11.1  \n",
       "133                           5.6  \n",
       "134                           8.1  \n",
       "135                           0.7  \n",
       "136                          38.0  \n",
       "137                           NaN  \n",
       "138                           0.0  \n",
       "139                           8.4  \n",
       "140                          14.2  \n",
       "141                           4.1  \n",
       "142                           0.8  \n",
       "143                           4.2  \n",
       "144                           0.0  \n",
       "145                           NaN  \n",
       "146                           NaN  \n",
       "147                          37.2  "
      ]
     },
     "execution_count": 34,
     "metadata": {},
     "output_type": "execute_result"
    }
   ],
   "source": [
    "df=pd.read_csv(\"WHO_roadtrafficdeaths.csv\", skiprows=1)\n",
    "df.tail(25)"
   ]
  },
  {
   "cell_type": "code",
   "execution_count": 35,
   "metadata": {},
   "outputs": [
    {
     "data": {
      "text/html": [
       "<div>\n",
       "<style scoped>\n",
       "    .dataframe tbody tr th:only-of-type {\n",
       "        vertical-align: middle;\n",
       "    }\n",
       "\n",
       "    .dataframe tbody tr th {\n",
       "        vertical-align: top;\n",
       "    }\n",
       "\n",
       "    .dataframe thead th {\n",
       "        text-align: right;\n",
       "    }\n",
       "</style>\n",
       "<table border=\"1\" class=\"dataframe\">\n",
       "  <thead>\n",
       "    <tr style=\"text-align: right;\">\n",
       "      <th></th>\n",
       "      <th>Country</th>\n",
       "      <th>Year</th>\n",
       "      <th>4wheeled_riders</th>\n",
       "      <th>3wheeled_riders</th>\n",
       "      <th>Cyclists</th>\n",
       "      <th>Pedestrians</th>\n",
       "      <th>Other</th>\n",
       "    </tr>\n",
       "  </thead>\n",
       "  <tbody>\n",
       "    <tr>\n",
       "      <th>0</th>\n",
       "      <td>Albania</td>\n",
       "      <td>2016</td>\n",
       "      <td>39.4</td>\n",
       "      <td>11.9</td>\n",
       "      <td>7.8</td>\n",
       "      <td>38.7</td>\n",
       "      <td>2.2</td>\n",
       "    </tr>\n",
       "    <tr>\n",
       "      <th>1</th>\n",
       "      <td>Andorra</td>\n",
       "      <td>2013</td>\n",
       "      <td>NaN</td>\n",
       "      <td>50.0</td>\n",
       "      <td>NaN</td>\n",
       "      <td>50.0</td>\n",
       "      <td>NaN</td>\n",
       "    </tr>\n",
       "    <tr>\n",
       "      <th>2</th>\n",
       "      <td>Angola</td>\n",
       "      <td>2016</td>\n",
       "      <td>59.5</td>\n",
       "      <td>NaN</td>\n",
       "      <td>NaN</td>\n",
       "      <td>40.5</td>\n",
       "      <td>0.0</td>\n",
       "    </tr>\n",
       "    <tr>\n",
       "      <th>3</th>\n",
       "      <td>Antigua and Barbuda</td>\n",
       "      <td>2016</td>\n",
       "      <td>62.5</td>\n",
       "      <td>0.0</td>\n",
       "      <td>12.5</td>\n",
       "      <td>25.0</td>\n",
       "      <td>0.0</td>\n",
       "    </tr>\n",
       "    <tr>\n",
       "      <th>4</th>\n",
       "      <td>Argentina</td>\n",
       "      <td>2016</td>\n",
       "      <td>47.2</td>\n",
       "      <td>22.2</td>\n",
       "      <td>2.4</td>\n",
       "      <td>8.2</td>\n",
       "      <td>20.0</td>\n",
       "    </tr>\n",
       "    <tr>\n",
       "      <th>...</th>\n",
       "      <td>...</td>\n",
       "      <td>...</td>\n",
       "      <td>...</td>\n",
       "      <td>...</td>\n",
       "      <td>...</td>\n",
       "      <td>...</td>\n",
       "      <td>...</td>\n",
       "    </tr>\n",
       "    <tr>\n",
       "      <th>143</th>\n",
       "      <td>United States of America</td>\n",
       "      <td>2016</td>\n",
       "      <td>30.7</td>\n",
       "      <td>14.2</td>\n",
       "      <td>2.3</td>\n",
       "      <td>15.3</td>\n",
       "      <td>4.2</td>\n",
       "    </tr>\n",
       "    <tr>\n",
       "      <th>144</th>\n",
       "      <td>Uruguay</td>\n",
       "      <td>2016</td>\n",
       "      <td>NaN</td>\n",
       "      <td>45.7</td>\n",
       "      <td>7.0</td>\n",
       "      <td>16.6</td>\n",
       "      <td>0.0</td>\n",
       "    </tr>\n",
       "    <tr>\n",
       "      <th>145</th>\n",
       "      <td>Viet Nam</td>\n",
       "      <td>2016</td>\n",
       "      <td>52.2</td>\n",
       "      <td>NaN</td>\n",
       "      <td>NaN</td>\n",
       "      <td>NaN</td>\n",
       "      <td>NaN</td>\n",
       "    </tr>\n",
       "    <tr>\n",
       "      <th>146</th>\n",
       "      <td>Zambia</td>\n",
       "      <td>2013</td>\n",
       "      <td>48.4</td>\n",
       "      <td>NaN</td>\n",
       "      <td>11.6</td>\n",
       "      <td>36.4</td>\n",
       "      <td>NaN</td>\n",
       "    </tr>\n",
       "    <tr>\n",
       "      <th>147</th>\n",
       "      <td>Zimbabwe</td>\n",
       "      <td>2016</td>\n",
       "      <td>NaN</td>\n",
       "      <td>10.2</td>\n",
       "      <td>12.2</td>\n",
       "      <td>13.7</td>\n",
       "      <td>37.2</td>\n",
       "    </tr>\n",
       "  </tbody>\n",
       "</table>\n",
       "<p>148 rows × 7 columns</p>\n",
       "</div>"
      ],
      "text/plain": [
       "                      Country  Year 4wheeled_riders  3wheeled_riders  \\\n",
       "0                     Albania  2016            39.4             11.9   \n",
       "1                     Andorra  2013             NaN             50.0   \n",
       "2                      Angola  2016            59.5              NaN   \n",
       "3         Antigua and Barbuda  2016            62.5              0.0   \n",
       "4                   Argentina  2016            47.2             22.2   \n",
       "..                        ...   ...             ...              ...   \n",
       "143  United States of America  2016            30.7             14.2   \n",
       "144                   Uruguay  2016             NaN             45.7   \n",
       "145                  Viet Nam  2016            52.2              NaN   \n",
       "146                    Zambia  2013            48.4              NaN   \n",
       "147                  Zimbabwe  2016             NaN             10.2   \n",
       "\n",
       "     Cyclists  Pedestrians  Other  \n",
       "0         7.8         38.7    2.2  \n",
       "1         NaN         50.0    NaN  \n",
       "2         NaN         40.5    0.0  \n",
       "3        12.5         25.0    0.0  \n",
       "4         2.4          8.2   20.0  \n",
       "..        ...          ...    ...  \n",
       "143       2.3         15.3    4.2  \n",
       "144       7.0         16.6    0.0  \n",
       "145       NaN          NaN    NaN  \n",
       "146      11.6         36.4    NaN  \n",
       "147      12.2         13.7   37.2  \n",
       "\n",
       "[148 rows x 7 columns]"
      ]
     },
     "execution_count": 35,
     "metadata": {},
     "output_type": "execute_result"
    }
   ],
   "source": [
    "#rename the indicator column\n",
    "df.rename(columns={'Drivers/passengers of 4-wheeled vehicles' : '4wheeled_riders'}, inplace=True)\n",
    "df.rename(columns={'Drivers/passengers of motorized 2- or 3-wheelers' : '3wheeled_riders'}, inplace=True)\n",
    "df.rename(columns={'Other/unspecified road users' : 'Other'}, inplace=True)\n",
    "df"
   ]
  },
  {
   "cell_type": "code",
   "execution_count": 38,
   "metadata": {},
   "outputs": [
    {
     "name": "stdout",
     "output_type": "stream",
     "text": [
      "Country             object\n",
      "Year                 int64\n",
      "4wheeled_riders    float64\n",
      "3wheeled_riders    float64\n",
      "Cyclists           float64\n",
      "Pedestrians        float64\n",
      "Other              float64\n",
      "dtype: object\n"
     ]
    }
   ],
   "source": [
    "##get the data type of each column\n",
    "print(df.dtypes)"
   ]
  },
  {
   "cell_type": "code",
   "execution_count": 37,
   "metadata": {},
   "outputs": [
    {
     "data": {
      "text/html": [
       "<div>\n",
       "<style scoped>\n",
       "    .dataframe tbody tr th:only-of-type {\n",
       "        vertical-align: middle;\n",
       "    }\n",
       "\n",
       "    .dataframe tbody tr th {\n",
       "        vertical-align: top;\n",
       "    }\n",
       "\n",
       "    .dataframe thead th {\n",
       "        text-align: right;\n",
       "    }\n",
       "</style>\n",
       "<table border=\"1\" class=\"dataframe\">\n",
       "  <thead>\n",
       "    <tr style=\"text-align: right;\">\n",
       "      <th></th>\n",
       "      <th>Country</th>\n",
       "      <th>Year</th>\n",
       "      <th>4wheeled_riders</th>\n",
       "      <th>3wheeled_riders</th>\n",
       "      <th>Cyclists</th>\n",
       "      <th>Pedestrians</th>\n",
       "      <th>Other</th>\n",
       "    </tr>\n",
       "  </thead>\n",
       "  <tbody>\n",
       "    <tr>\n",
       "      <th>123</th>\n",
       "      <td>Sri Lanka</td>\n",
       "      <td>2016</td>\n",
       "      <td>NaN</td>\n",
       "      <td>50.8</td>\n",
       "      <td>8.1</td>\n",
       "      <td>28.6</td>\n",
       "      <td>5.7</td>\n",
       "    </tr>\n",
       "    <tr>\n",
       "      <th>124</th>\n",
       "      <td>Sudan</td>\n",
       "      <td>2016</td>\n",
       "      <td>33.8</td>\n",
       "      <td>NaN</td>\n",
       "      <td>NaN</td>\n",
       "      <td>14.9</td>\n",
       "      <td>71.4</td>\n",
       "    </tr>\n",
       "    <tr>\n",
       "      <th>125</th>\n",
       "      <td>Suriname</td>\n",
       "      <td>2016</td>\n",
       "      <td>53.7</td>\n",
       "      <td>45.9</td>\n",
       "      <td>4.1</td>\n",
       "      <td>15.6</td>\n",
       "      <td>1.4</td>\n",
       "    </tr>\n",
       "    <tr>\n",
       "      <th>126</th>\n",
       "      <td>Sweden</td>\n",
       "      <td>2016</td>\n",
       "      <td>34.7</td>\n",
       "      <td>16.3</td>\n",
       "      <td>8.1</td>\n",
       "      <td>NaN</td>\n",
       "      <td>6.3</td>\n",
       "    </tr>\n",
       "    <tr>\n",
       "      <th>127</th>\n",
       "      <td>Switzerland</td>\n",
       "      <td>2016</td>\n",
       "      <td>18.8</td>\n",
       "      <td>22.7</td>\n",
       "      <td>15.3</td>\n",
       "      <td>23.1</td>\n",
       "      <td>4.2</td>\n",
       "    </tr>\n",
       "    <tr>\n",
       "      <th>128</th>\n",
       "      <td>Syrian Arab Republic</td>\n",
       "      <td>2016</td>\n",
       "      <td>57.4</td>\n",
       "      <td>6.4</td>\n",
       "      <td>5.9</td>\n",
       "      <td>64.7</td>\n",
       "      <td>4.2</td>\n",
       "    </tr>\n",
       "    <tr>\n",
       "      <th>129</th>\n",
       "      <td>Tajikistan</td>\n",
       "      <td>2016</td>\n",
       "      <td>12.3</td>\n",
       "      <td>NaN</td>\n",
       "      <td>2.3</td>\n",
       "      <td>40.3</td>\n",
       "      <td>0.0</td>\n",
       "    </tr>\n",
       "    <tr>\n",
       "      <th>130</th>\n",
       "      <td>Thailand</td>\n",
       "      <td>2016</td>\n",
       "      <td>46.6</td>\n",
       "      <td>74.4</td>\n",
       "      <td>3.5</td>\n",
       "      <td>7.6</td>\n",
       "      <td>2.3</td>\n",
       "    </tr>\n",
       "    <tr>\n",
       "      <th>131</th>\n",
       "      <td>Timor-Leste</td>\n",
       "      <td>2016</td>\n",
       "      <td>17.3</td>\n",
       "      <td>NaN</td>\n",
       "      <td>NaN</td>\n",
       "      <td>NaN</td>\n",
       "      <td>NaN</td>\n",
       "    </tr>\n",
       "    <tr>\n",
       "      <th>132</th>\n",
       "      <td>Togo</td>\n",
       "      <td>2016</td>\n",
       "      <td>66.7</td>\n",
       "      <td>71.6</td>\n",
       "      <td>NaN</td>\n",
       "      <td>NaN</td>\n",
       "      <td>11.1</td>\n",
       "    </tr>\n",
       "    <tr>\n",
       "      <th>133</th>\n",
       "      <td>Tonga</td>\n",
       "      <td>2016</td>\n",
       "      <td>57.8</td>\n",
       "      <td>0.0</td>\n",
       "      <td>0.0</td>\n",
       "      <td>27.8</td>\n",
       "      <td>5.6</td>\n",
       "    </tr>\n",
       "    <tr>\n",
       "      <th>134</th>\n",
       "      <td>Trinidad and Tobago</td>\n",
       "      <td>2016</td>\n",
       "      <td>49.3</td>\n",
       "      <td>2.2</td>\n",
       "      <td>0.7</td>\n",
       "      <td>31.1</td>\n",
       "      <td>8.1</td>\n",
       "    </tr>\n",
       "    <tr>\n",
       "      <th>135</th>\n",
       "      <td>Tunisia</td>\n",
       "      <td>2016</td>\n",
       "      <td>21.7</td>\n",
       "      <td>22.9</td>\n",
       "      <td>2.5</td>\n",
       "      <td>24.6</td>\n",
       "      <td>0.7</td>\n",
       "    </tr>\n",
       "    <tr>\n",
       "      <th>136</th>\n",
       "      <td>Turkey</td>\n",
       "      <td>2016</td>\n",
       "      <td>NaN</td>\n",
       "      <td>14.9</td>\n",
       "      <td>1.9</td>\n",
       "      <td>23.4</td>\n",
       "      <td>38.0</td>\n",
       "    </tr>\n",
       "    <tr>\n",
       "      <th>137</th>\n",
       "      <td>Turkmenistan</td>\n",
       "      <td>2016</td>\n",
       "      <td>21.3</td>\n",
       "      <td>NaN</td>\n",
       "      <td>NaN</td>\n",
       "      <td>NaN</td>\n",
       "      <td>NaN</td>\n",
       "    </tr>\n",
       "    <tr>\n",
       "      <th>138</th>\n",
       "      <td>Uganda</td>\n",
       "      <td>2016</td>\n",
       "      <td>34.0</td>\n",
       "      <td>33.4</td>\n",
       "      <td>5.8</td>\n",
       "      <td>39.5</td>\n",
       "      <td>0.0</td>\n",
       "    </tr>\n",
       "    <tr>\n",
       "      <th>139</th>\n",
       "      <td>Ukraine</td>\n",
       "      <td>2016</td>\n",
       "      <td>54.5</td>\n",
       "      <td>8.7</td>\n",
       "      <td>7.1</td>\n",
       "      <td>41.9</td>\n",
       "      <td>8.4</td>\n",
       "    </tr>\n",
       "    <tr>\n",
       "      <th>140</th>\n",
       "      <td>United Arab Emirates</td>\n",
       "      <td>2016</td>\n",
       "      <td>46.2</td>\n",
       "      <td>5.5</td>\n",
       "      <td>1.5</td>\n",
       "      <td>24.3</td>\n",
       "      <td>14.2</td>\n",
       "    </tr>\n",
       "    <tr>\n",
       "      <th>141</th>\n",
       "      <td>United Kingdom of Great Britain and Northern I...</td>\n",
       "      <td>2016</td>\n",
       "      <td>38.5</td>\n",
       "      <td>20.5</td>\n",
       "      <td>5.5</td>\n",
       "      <td>23.7</td>\n",
       "      <td>4.1</td>\n",
       "    </tr>\n",
       "    <tr>\n",
       "      <th>142</th>\n",
       "      <td>United Republic of Tanzania</td>\n",
       "      <td>2016</td>\n",
       "      <td>63.9</td>\n",
       "      <td>22.7</td>\n",
       "      <td>8.0</td>\n",
       "      <td>29.9</td>\n",
       "      <td>0.8</td>\n",
       "    </tr>\n",
       "    <tr>\n",
       "      <th>143</th>\n",
       "      <td>United States of America</td>\n",
       "      <td>2016</td>\n",
       "      <td>30.7</td>\n",
       "      <td>14.2</td>\n",
       "      <td>2.3</td>\n",
       "      <td>15.3</td>\n",
       "      <td>4.2</td>\n",
       "    </tr>\n",
       "    <tr>\n",
       "      <th>144</th>\n",
       "      <td>Uruguay</td>\n",
       "      <td>2016</td>\n",
       "      <td>NaN</td>\n",
       "      <td>45.7</td>\n",
       "      <td>7.0</td>\n",
       "      <td>16.6</td>\n",
       "      <td>0.0</td>\n",
       "    </tr>\n",
       "    <tr>\n",
       "      <th>145</th>\n",
       "      <td>Viet Nam</td>\n",
       "      <td>2016</td>\n",
       "      <td>52.2</td>\n",
       "      <td>NaN</td>\n",
       "      <td>NaN</td>\n",
       "      <td>NaN</td>\n",
       "      <td>NaN</td>\n",
       "    </tr>\n",
       "    <tr>\n",
       "      <th>146</th>\n",
       "      <td>Zambia</td>\n",
       "      <td>2013</td>\n",
       "      <td>48.4</td>\n",
       "      <td>NaN</td>\n",
       "      <td>11.6</td>\n",
       "      <td>36.4</td>\n",
       "      <td>NaN</td>\n",
       "    </tr>\n",
       "    <tr>\n",
       "      <th>147</th>\n",
       "      <td>Zimbabwe</td>\n",
       "      <td>2016</td>\n",
       "      <td>NaN</td>\n",
       "      <td>10.2</td>\n",
       "      <td>12.2</td>\n",
       "      <td>13.7</td>\n",
       "      <td>37.2</td>\n",
       "    </tr>\n",
       "  </tbody>\n",
       "</table>\n",
       "</div>"
      ],
      "text/plain": [
       "                                               Country  Year  4wheeled_riders  \\\n",
       "123                                          Sri Lanka  2016              NaN   \n",
       "124                                              Sudan  2016             33.8   \n",
       "125                                           Suriname  2016             53.7   \n",
       "126                                             Sweden  2016             34.7   \n",
       "127                                        Switzerland  2016             18.8   \n",
       "128                               Syrian Arab Republic  2016             57.4   \n",
       "129                                         Tajikistan  2016             12.3   \n",
       "130                                           Thailand  2016             46.6   \n",
       "131                                        Timor-Leste  2016             17.3   \n",
       "132                                               Togo  2016             66.7   \n",
       "133                                              Tonga  2016             57.8   \n",
       "134                                Trinidad and Tobago  2016             49.3   \n",
       "135                                            Tunisia  2016             21.7   \n",
       "136                                             Turkey  2016              NaN   \n",
       "137                                       Turkmenistan  2016             21.3   \n",
       "138                                             Uganda  2016             34.0   \n",
       "139                                            Ukraine  2016             54.5   \n",
       "140                               United Arab Emirates  2016             46.2   \n",
       "141  United Kingdom of Great Britain and Northern I...  2016             38.5   \n",
       "142                        United Republic of Tanzania  2016             63.9   \n",
       "143                           United States of America  2016             30.7   \n",
       "144                                            Uruguay  2016              NaN   \n",
       "145                                           Viet Nam  2016             52.2   \n",
       "146                                             Zambia  2013             48.4   \n",
       "147                                           Zimbabwe  2016              NaN   \n",
       "\n",
       "     3wheeled_riders  Cyclists  Pedestrians  Other  \n",
       "123             50.8       8.1         28.6    5.7  \n",
       "124              NaN       NaN         14.9   71.4  \n",
       "125             45.9       4.1         15.6    1.4  \n",
       "126             16.3       8.1          NaN    6.3  \n",
       "127             22.7      15.3         23.1    4.2  \n",
       "128              6.4       5.9         64.7    4.2  \n",
       "129              NaN       2.3         40.3    0.0  \n",
       "130             74.4       3.5          7.6    2.3  \n",
       "131              NaN       NaN          NaN    NaN  \n",
       "132             71.6       NaN          NaN   11.1  \n",
       "133              0.0       0.0         27.8    5.6  \n",
       "134              2.2       0.7         31.1    8.1  \n",
       "135             22.9       2.5         24.6    0.7  \n",
       "136             14.9       1.9         23.4   38.0  \n",
       "137              NaN       NaN          NaN    NaN  \n",
       "138             33.4       5.8         39.5    0.0  \n",
       "139              8.7       7.1         41.9    8.4  \n",
       "140              5.5       1.5         24.3   14.2  \n",
       "141             20.5       5.5         23.7    4.1  \n",
       "142             22.7       8.0         29.9    0.8  \n",
       "143             14.2       2.3         15.3    4.2  \n",
       "144             45.7       7.0         16.6    0.0  \n",
       "145              NaN       NaN          NaN    NaN  \n",
       "146              NaN      11.6         36.4    NaN  \n",
       "147             10.2      12.2         13.7   37.2  "
      ]
     },
     "execution_count": 37,
     "metadata": {},
     "output_type": "execute_result"
    }
   ],
   "source": [
    "df['4wheeled_riders'] = df['4wheeled_riders'].str.replace('h','')\n",
    "\n",
    "df['4wheeled_riders'] = df['4wheeled_riders'].astype(float)\n",
    "df.tail(25)\n"
   ]
  },
  {
   "cell_type": "code",
   "execution_count": 40,
   "metadata": {},
   "outputs": [
    {
     "data": {
      "text/html": [
       "<div>\n",
       "<style scoped>\n",
       "    .dataframe tbody tr th:only-of-type {\n",
       "        vertical-align: middle;\n",
       "    }\n",
       "\n",
       "    .dataframe tbody tr th {\n",
       "        vertical-align: top;\n",
       "    }\n",
       "\n",
       "    .dataframe thead th {\n",
       "        text-align: right;\n",
       "    }\n",
       "</style>\n",
       "<table border=\"1\" class=\"dataframe\">\n",
       "  <thead>\n",
       "    <tr style=\"text-align: right;\">\n",
       "      <th></th>\n",
       "      <th>Country</th>\n",
       "      <th>Year</th>\n",
       "      <th>4wheeled_riders</th>\n",
       "      <th>3wheeled_riders</th>\n",
       "      <th>Cyclists</th>\n",
       "      <th>Pedestrians</th>\n",
       "      <th>Other</th>\n",
       "    </tr>\n",
       "  </thead>\n",
       "  <tbody>\n",
       "    <tr>\n",
       "      <th>123</th>\n",
       "      <td>Sri Lanka</td>\n",
       "      <td>2016</td>\n",
       "      <td>0.0</td>\n",
       "      <td>50.8</td>\n",
       "      <td>8.1</td>\n",
       "      <td>28.6</td>\n",
       "      <td>5.7</td>\n",
       "    </tr>\n",
       "    <tr>\n",
       "      <th>124</th>\n",
       "      <td>Sudan</td>\n",
       "      <td>2016</td>\n",
       "      <td>33.8</td>\n",
       "      <td>0.0</td>\n",
       "      <td>0.0</td>\n",
       "      <td>14.9</td>\n",
       "      <td>71.4</td>\n",
       "    </tr>\n",
       "    <tr>\n",
       "      <th>125</th>\n",
       "      <td>Suriname</td>\n",
       "      <td>2016</td>\n",
       "      <td>53.7</td>\n",
       "      <td>45.9</td>\n",
       "      <td>4.1</td>\n",
       "      <td>15.6</td>\n",
       "      <td>1.4</td>\n",
       "    </tr>\n",
       "    <tr>\n",
       "      <th>126</th>\n",
       "      <td>Sweden</td>\n",
       "      <td>2016</td>\n",
       "      <td>34.7</td>\n",
       "      <td>16.3</td>\n",
       "      <td>8.1</td>\n",
       "      <td>0.0</td>\n",
       "      <td>6.3</td>\n",
       "    </tr>\n",
       "    <tr>\n",
       "      <th>127</th>\n",
       "      <td>Switzerland</td>\n",
       "      <td>2016</td>\n",
       "      <td>18.8</td>\n",
       "      <td>22.7</td>\n",
       "      <td>15.3</td>\n",
       "      <td>23.1</td>\n",
       "      <td>4.2</td>\n",
       "    </tr>\n",
       "    <tr>\n",
       "      <th>128</th>\n",
       "      <td>Syrian Arab Republic</td>\n",
       "      <td>2016</td>\n",
       "      <td>57.4</td>\n",
       "      <td>6.4</td>\n",
       "      <td>5.9</td>\n",
       "      <td>64.7</td>\n",
       "      <td>4.2</td>\n",
       "    </tr>\n",
       "    <tr>\n",
       "      <th>129</th>\n",
       "      <td>Tajikistan</td>\n",
       "      <td>2016</td>\n",
       "      <td>12.3</td>\n",
       "      <td>0.0</td>\n",
       "      <td>2.3</td>\n",
       "      <td>40.3</td>\n",
       "      <td>0.0</td>\n",
       "    </tr>\n",
       "    <tr>\n",
       "      <th>130</th>\n",
       "      <td>Thailand</td>\n",
       "      <td>2016</td>\n",
       "      <td>46.6</td>\n",
       "      <td>74.4</td>\n",
       "      <td>3.5</td>\n",
       "      <td>7.6</td>\n",
       "      <td>2.3</td>\n",
       "    </tr>\n",
       "    <tr>\n",
       "      <th>131</th>\n",
       "      <td>Timor-Leste</td>\n",
       "      <td>2016</td>\n",
       "      <td>17.3</td>\n",
       "      <td>0.0</td>\n",
       "      <td>0.0</td>\n",
       "      <td>0.0</td>\n",
       "      <td>0.0</td>\n",
       "    </tr>\n",
       "    <tr>\n",
       "      <th>132</th>\n",
       "      <td>Togo</td>\n",
       "      <td>2016</td>\n",
       "      <td>66.7</td>\n",
       "      <td>71.6</td>\n",
       "      <td>0.0</td>\n",
       "      <td>0.0</td>\n",
       "      <td>11.1</td>\n",
       "    </tr>\n",
       "    <tr>\n",
       "      <th>133</th>\n",
       "      <td>Tonga</td>\n",
       "      <td>2016</td>\n",
       "      <td>57.8</td>\n",
       "      <td>0.0</td>\n",
       "      <td>0.0</td>\n",
       "      <td>27.8</td>\n",
       "      <td>5.6</td>\n",
       "    </tr>\n",
       "    <tr>\n",
       "      <th>134</th>\n",
       "      <td>Trinidad and Tobago</td>\n",
       "      <td>2016</td>\n",
       "      <td>49.3</td>\n",
       "      <td>2.2</td>\n",
       "      <td>0.7</td>\n",
       "      <td>31.1</td>\n",
       "      <td>8.1</td>\n",
       "    </tr>\n",
       "    <tr>\n",
       "      <th>135</th>\n",
       "      <td>Tunisia</td>\n",
       "      <td>2016</td>\n",
       "      <td>21.7</td>\n",
       "      <td>22.9</td>\n",
       "      <td>2.5</td>\n",
       "      <td>24.6</td>\n",
       "      <td>0.7</td>\n",
       "    </tr>\n",
       "    <tr>\n",
       "      <th>136</th>\n",
       "      <td>Turkey</td>\n",
       "      <td>2016</td>\n",
       "      <td>0.0</td>\n",
       "      <td>14.9</td>\n",
       "      <td>1.9</td>\n",
       "      <td>23.4</td>\n",
       "      <td>38.0</td>\n",
       "    </tr>\n",
       "    <tr>\n",
       "      <th>137</th>\n",
       "      <td>Turkmenistan</td>\n",
       "      <td>2016</td>\n",
       "      <td>21.3</td>\n",
       "      <td>0.0</td>\n",
       "      <td>0.0</td>\n",
       "      <td>0.0</td>\n",
       "      <td>0.0</td>\n",
       "    </tr>\n",
       "    <tr>\n",
       "      <th>138</th>\n",
       "      <td>Uganda</td>\n",
       "      <td>2016</td>\n",
       "      <td>34.0</td>\n",
       "      <td>33.4</td>\n",
       "      <td>5.8</td>\n",
       "      <td>39.5</td>\n",
       "      <td>0.0</td>\n",
       "    </tr>\n",
       "    <tr>\n",
       "      <th>139</th>\n",
       "      <td>Ukraine</td>\n",
       "      <td>2016</td>\n",
       "      <td>54.5</td>\n",
       "      <td>8.7</td>\n",
       "      <td>7.1</td>\n",
       "      <td>41.9</td>\n",
       "      <td>8.4</td>\n",
       "    </tr>\n",
       "    <tr>\n",
       "      <th>140</th>\n",
       "      <td>United Arab Emirates</td>\n",
       "      <td>2016</td>\n",
       "      <td>46.2</td>\n",
       "      <td>5.5</td>\n",
       "      <td>1.5</td>\n",
       "      <td>24.3</td>\n",
       "      <td>14.2</td>\n",
       "    </tr>\n",
       "    <tr>\n",
       "      <th>141</th>\n",
       "      <td>United Kingdom of Great Britain and Northern I...</td>\n",
       "      <td>2016</td>\n",
       "      <td>38.5</td>\n",
       "      <td>20.5</td>\n",
       "      <td>5.5</td>\n",
       "      <td>23.7</td>\n",
       "      <td>4.1</td>\n",
       "    </tr>\n",
       "    <tr>\n",
       "      <th>142</th>\n",
       "      <td>United Republic of Tanzania</td>\n",
       "      <td>2016</td>\n",
       "      <td>63.9</td>\n",
       "      <td>22.7</td>\n",
       "      <td>8.0</td>\n",
       "      <td>29.9</td>\n",
       "      <td>0.8</td>\n",
       "    </tr>\n",
       "    <tr>\n",
       "      <th>143</th>\n",
       "      <td>United States of America</td>\n",
       "      <td>2016</td>\n",
       "      <td>30.7</td>\n",
       "      <td>14.2</td>\n",
       "      <td>2.3</td>\n",
       "      <td>15.3</td>\n",
       "      <td>4.2</td>\n",
       "    </tr>\n",
       "    <tr>\n",
       "      <th>144</th>\n",
       "      <td>Uruguay</td>\n",
       "      <td>2016</td>\n",
       "      <td>0.0</td>\n",
       "      <td>45.7</td>\n",
       "      <td>7.0</td>\n",
       "      <td>16.6</td>\n",
       "      <td>0.0</td>\n",
       "    </tr>\n",
       "    <tr>\n",
       "      <th>145</th>\n",
       "      <td>Viet Nam</td>\n",
       "      <td>2016</td>\n",
       "      <td>52.2</td>\n",
       "      <td>0.0</td>\n",
       "      <td>0.0</td>\n",
       "      <td>0.0</td>\n",
       "      <td>0.0</td>\n",
       "    </tr>\n",
       "    <tr>\n",
       "      <th>146</th>\n",
       "      <td>Zambia</td>\n",
       "      <td>2013</td>\n",
       "      <td>48.4</td>\n",
       "      <td>0.0</td>\n",
       "      <td>11.6</td>\n",
       "      <td>36.4</td>\n",
       "      <td>0.0</td>\n",
       "    </tr>\n",
       "    <tr>\n",
       "      <th>147</th>\n",
       "      <td>Zimbabwe</td>\n",
       "      <td>2016</td>\n",
       "      <td>0.0</td>\n",
       "      <td>10.2</td>\n",
       "      <td>12.2</td>\n",
       "      <td>13.7</td>\n",
       "      <td>37.2</td>\n",
       "    </tr>\n",
       "  </tbody>\n",
       "</table>\n",
       "</div>"
      ],
      "text/plain": [
       "                                               Country  Year  4wheeled_riders  \\\n",
       "123                                          Sri Lanka  2016              0.0   \n",
       "124                                              Sudan  2016             33.8   \n",
       "125                                           Suriname  2016             53.7   \n",
       "126                                             Sweden  2016             34.7   \n",
       "127                                        Switzerland  2016             18.8   \n",
       "128                               Syrian Arab Republic  2016             57.4   \n",
       "129                                         Tajikistan  2016             12.3   \n",
       "130                                           Thailand  2016             46.6   \n",
       "131                                        Timor-Leste  2016             17.3   \n",
       "132                                               Togo  2016             66.7   \n",
       "133                                              Tonga  2016             57.8   \n",
       "134                                Trinidad and Tobago  2016             49.3   \n",
       "135                                            Tunisia  2016             21.7   \n",
       "136                                             Turkey  2016              0.0   \n",
       "137                                       Turkmenistan  2016             21.3   \n",
       "138                                             Uganda  2016             34.0   \n",
       "139                                            Ukraine  2016             54.5   \n",
       "140                               United Arab Emirates  2016             46.2   \n",
       "141  United Kingdom of Great Britain and Northern I...  2016             38.5   \n",
       "142                        United Republic of Tanzania  2016             63.9   \n",
       "143                           United States of America  2016             30.7   \n",
       "144                                            Uruguay  2016              0.0   \n",
       "145                                           Viet Nam  2016             52.2   \n",
       "146                                             Zambia  2013             48.4   \n",
       "147                                           Zimbabwe  2016              0.0   \n",
       "\n",
       "     3wheeled_riders  Cyclists  Pedestrians  Other  \n",
       "123             50.8       8.1         28.6    5.7  \n",
       "124              0.0       0.0         14.9   71.4  \n",
       "125             45.9       4.1         15.6    1.4  \n",
       "126             16.3       8.1          0.0    6.3  \n",
       "127             22.7      15.3         23.1    4.2  \n",
       "128              6.4       5.9         64.7    4.2  \n",
       "129              0.0       2.3         40.3    0.0  \n",
       "130             74.4       3.5          7.6    2.3  \n",
       "131              0.0       0.0          0.0    0.0  \n",
       "132             71.6       0.0          0.0   11.1  \n",
       "133              0.0       0.0         27.8    5.6  \n",
       "134              2.2       0.7         31.1    8.1  \n",
       "135             22.9       2.5         24.6    0.7  \n",
       "136             14.9       1.9         23.4   38.0  \n",
       "137              0.0       0.0          0.0    0.0  \n",
       "138             33.4       5.8         39.5    0.0  \n",
       "139              8.7       7.1         41.9    8.4  \n",
       "140              5.5       1.5         24.3   14.2  \n",
       "141             20.5       5.5         23.7    4.1  \n",
       "142             22.7       8.0         29.9    0.8  \n",
       "143             14.2       2.3         15.3    4.2  \n",
       "144             45.7       7.0         16.6    0.0  \n",
       "145              0.0       0.0          0.0    0.0  \n",
       "146              0.0      11.6         36.4    0.0  \n",
       "147             10.2      12.2         13.7   37.2  "
      ]
     },
     "execution_count": 40,
     "metadata": {},
     "output_type": "execute_result"
    }
   ],
   "source": [
    "##Replace all NaN values in all columns with 0.0\n",
    "##col = df.select_dtypes(np.number).columns\n",
    "d = {**dict.fromkeys(df.select_dtypes(np.number).columns, 0) }\n",
    "df = df.fillna(d)\n",
    "\n",
    "##df[col] = df[col].fillna(0)\n",
    "##df['Numeric'].fillna(0.0,inplace=True)\n",
    "df.tail(25)"
   ]
  },
  {
   "cell_type": "code",
   "execution_count": 47,
   "metadata": {},
   "outputs": [
    {
     "name": "stdout",
     "output_type": "stream",
     "text": [
      "         Country         Year  4wheeled_riders  3wheeled_riders    Cyclists  \\\n",
      "count        148   148.000000       148.000000       148.000000  148.000000   \n",
      "unique       147          NaN              NaN              NaN         NaN   \n",
      "top     Eswatini          NaN              NaN              NaN         NaN   \n",
      "freq           2          NaN              NaN              NaN         NaN   \n",
      "mean         NaN  2015.817568        35.704730        17.961486    4.758784   \n",
      "std          NaN     0.719383        21.353173        19.418185    6.579022   \n",
      "min          NaN  2013.000000         0.000000         0.000000    0.000000   \n",
      "25%          NaN  2016.000000        18.125000         2.075000    0.375000   \n",
      "50%          NaN  2016.000000        40.150000        13.200000    2.600000   \n",
      "75%          NaN  2016.000000        52.125000        22.700000    7.150000   \n",
      "max          NaN  2016.000000        75.000000        80.000000   60.000000   \n",
      "\n",
      "        Pedestrians       Other  \n",
      "count    148.000000  148.000000  \n",
      "unique          NaN         NaN  \n",
      "top             NaN         NaN  \n",
      "freq            NaN         NaN  \n",
      "mean      24.917568    9.912162  \n",
      "std       14.885658   15.719856  \n",
      "min        0.000000    0.000000  \n",
      "25%       15.450000    0.075000  \n",
      "50%       24.750000    5.450000  \n",
      "75%       33.825000   10.325000  \n",
      "max      100.000000   93.900000  \n"
     ]
    }
   ],
   "source": [
    "##summary stats of all columns\n",
    "print(df.describe(include='all'))"
   ]
  },
  {
   "cell_type": "code",
   "execution_count": 48,
   "metadata": {},
   "outputs": [
    {
     "name": "stdout",
     "output_type": "stream",
     "text": [
      "35.70472972972972\n"
     ]
    }
   ],
   "source": [
    "##another way to calculate mean of a column\n",
    "print(df['4wheeled_riders'].mean())"
   ]
  },
  {
   "cell_type": "code",
   "execution_count": 50,
   "metadata": {},
   "outputs": [
    {
     "data": {
      "text/plain": [
       "Pedestrians    24.75\n",
       "Other           5.45\n",
       "dtype: float64"
      ]
     },
     "execution_count": 50,
     "metadata": {},
     "output_type": "execute_result"
    }
   ],
   "source": [
    "#summary for multiple columns\n",
    "df[[\"Pedestrians\", \"Other\"]].median()"
   ]
  },
  {
   "cell_type": "code",
   "execution_count": 51,
   "metadata": {},
   "outputs": [
    {
     "data": {
      "text/html": [
       "<div>\n",
       "<style scoped>\n",
       "    .dataframe tbody tr th:only-of-type {\n",
       "        vertical-align: middle;\n",
       "    }\n",
       "\n",
       "    .dataframe tbody tr th {\n",
       "        vertical-align: top;\n",
       "    }\n",
       "\n",
       "    .dataframe thead th {\n",
       "        text-align: right;\n",
       "    }\n",
       "</style>\n",
       "<table border=\"1\" class=\"dataframe\">\n",
       "  <thead>\n",
       "    <tr style=\"text-align: right;\">\n",
       "      <th></th>\n",
       "      <th>4wheeled_riders</th>\n",
       "      <th>3wheeled_riders</th>\n",
       "    </tr>\n",
       "  </thead>\n",
       "  <tbody>\n",
       "    <tr>\n",
       "      <th>max</th>\n",
       "      <td>75.000000</td>\n",
       "      <td>80.000000</td>\n",
       "    </tr>\n",
       "    <tr>\n",
       "      <th>mean</th>\n",
       "      <td>NaN</td>\n",
       "      <td>17.961486</td>\n",
       "    </tr>\n",
       "    <tr>\n",
       "      <th>median</th>\n",
       "      <td>40.150000</td>\n",
       "      <td>13.200000</td>\n",
       "    </tr>\n",
       "    <tr>\n",
       "      <th>min</th>\n",
       "      <td>0.000000</td>\n",
       "      <td>0.000000</td>\n",
       "    </tr>\n",
       "    <tr>\n",
       "      <th>skew</th>\n",
       "      <td>-0.290036</td>\n",
       "      <td>NaN</td>\n",
       "    </tr>\n",
       "  </tbody>\n",
       "</table>\n",
       "</div>"
      ],
      "text/plain": [
       "        4wheeled_riders  3wheeled_riders\n",
       "max           75.000000        80.000000\n",
       "mean                NaN        17.961486\n",
       "median        40.150000        13.200000\n",
       "min            0.000000         0.000000\n",
       "skew          -0.290036              NaN"
      ]
     },
     "execution_count": 51,
     "metadata": {},
     "output_type": "execute_result"
    }
   ],
   "source": [
    "#specific stats for specific columns\n",
    "df.agg({'4wheeled_riders': ['min', 'max', 'median', 'skew'],\n",
    "                '3wheeled_riders': ['min', 'max', 'median', 'mean']})"
   ]
  },
  {
   "cell_type": "code",
   "execution_count": 52,
   "metadata": {},
   "outputs": [
    {
     "data": {
      "text/html": [
       "<div>\n",
       "<style scoped>\n",
       "    .dataframe tbody tr th:only-of-type {\n",
       "        vertical-align: middle;\n",
       "    }\n",
       "\n",
       "    .dataframe tbody tr th {\n",
       "        vertical-align: top;\n",
       "    }\n",
       "\n",
       "    .dataframe thead th {\n",
       "        text-align: right;\n",
       "    }\n",
       "</style>\n",
       "<table border=\"1\" class=\"dataframe\">\n",
       "  <thead>\n",
       "    <tr style=\"text-align: right;\">\n",
       "      <th></th>\n",
       "      <th>4wheeled_riders</th>\n",
       "      <th>3wheeled_riders</th>\n",
       "      <th>Cyclists</th>\n",
       "      <th>Pedestrians</th>\n",
       "      <th>Other</th>\n",
       "    </tr>\n",
       "    <tr>\n",
       "      <th>Year</th>\n",
       "      <th></th>\n",
       "      <th></th>\n",
       "      <th></th>\n",
       "      <th></th>\n",
       "      <th></th>\n",
       "    </tr>\n",
       "  </thead>\n",
       "  <tbody>\n",
       "    <tr>\n",
       "      <th>2013</th>\n",
       "      <td>31.588889</td>\n",
       "      <td>19.011111</td>\n",
       "      <td>3.188889</td>\n",
       "      <td>39.155556</td>\n",
       "      <td>1.388889</td>\n",
       "    </tr>\n",
       "    <tr>\n",
       "      <th>2016</th>\n",
       "      <td>35.971223</td>\n",
       "      <td>17.893525</td>\n",
       "      <td>4.860432</td>\n",
       "      <td>23.995683</td>\n",
       "      <td>10.464029</td>\n",
       "    </tr>\n",
       "  </tbody>\n",
       "</table>\n",
       "</div>"
      ],
      "text/plain": [
       "      4wheeled_riders  3wheeled_riders  Cyclists  Pedestrians      Other\n",
       "Year                                                                    \n",
       "2013        31.588889        19.011111  3.188889    39.155556   1.388889\n",
       "2016        35.971223        17.893525  4.860432    23.995683  10.464029"
      ]
     },
     "execution_count": 52,
     "metadata": {},
     "output_type": "execute_result"
    }
   ],
   "source": [
    "#summary stats by year\n",
    "df.groupby(\"Year\").mean()"
   ]
  },
  {
   "cell_type": "code",
   "execution_count": 70,
   "metadata": {},
   "outputs": [
    {
     "data": {
      "text/html": [
       "<div>\n",
       "<style scoped>\n",
       "    .dataframe tbody tr th:only-of-type {\n",
       "        vertical-align: middle;\n",
       "    }\n",
       "\n",
       "    .dataframe tbody tr th {\n",
       "        vertical-align: top;\n",
       "    }\n",
       "\n",
       "    .dataframe thead th {\n",
       "        text-align: right;\n",
       "    }\n",
       "</style>\n",
       "<table border=\"1\" class=\"dataframe\">\n",
       "  <thead>\n",
       "    <tr style=\"text-align: right;\">\n",
       "      <th></th>\n",
       "      <th>Country</th>\n",
       "      <th>Year</th>\n",
       "      <th>4wheeled_riders</th>\n",
       "      <th>3wheeled_riders</th>\n",
       "      <th>Cyclists</th>\n",
       "      <th>Pedestrians</th>\n",
       "      <th>Other</th>\n",
       "    </tr>\n",
       "  </thead>\n",
       "  <tbody>\n",
       "    <tr>\n",
       "      <th>0</th>\n",
       "      <td>Albania</td>\n",
       "      <td>2016</td>\n",
       "      <td>39.4</td>\n",
       "      <td>11.9</td>\n",
       "      <td>7.8</td>\n",
       "      <td>38.7</td>\n",
       "      <td>2.2</td>\n",
       "    </tr>\n",
       "    <tr>\n",
       "      <th>2</th>\n",
       "      <td>Angola</td>\n",
       "      <td>2016</td>\n",
       "      <td>59.5</td>\n",
       "      <td>0.0</td>\n",
       "      <td>0.0</td>\n",
       "      <td>40.5</td>\n",
       "      <td>0.0</td>\n",
       "    </tr>\n",
       "    <tr>\n",
       "      <th>3</th>\n",
       "      <td>Antigua and Barbuda</td>\n",
       "      <td>2016</td>\n",
       "      <td>62.5</td>\n",
       "      <td>0.0</td>\n",
       "      <td>12.5</td>\n",
       "      <td>25.0</td>\n",
       "      <td>0.0</td>\n",
       "    </tr>\n",
       "    <tr>\n",
       "      <th>4</th>\n",
       "      <td>Argentina</td>\n",
       "      <td>2016</td>\n",
       "      <td>47.2</td>\n",
       "      <td>22.2</td>\n",
       "      <td>2.4</td>\n",
       "      <td>8.2</td>\n",
       "      <td>20.0</td>\n",
       "    </tr>\n",
       "    <tr>\n",
       "      <th>5</th>\n",
       "      <td>Armenia</td>\n",
       "      <td>2016</td>\n",
       "      <td>59.6</td>\n",
       "      <td>1.5</td>\n",
       "      <td>0.4</td>\n",
       "      <td>34.8</td>\n",
       "      <td>3.7</td>\n",
       "    </tr>\n",
       "    <tr>\n",
       "      <th>...</th>\n",
       "      <td>...</td>\n",
       "      <td>...</td>\n",
       "      <td>...</td>\n",
       "      <td>...</td>\n",
       "      <td>...</td>\n",
       "      <td>...</td>\n",
       "      <td>...</td>\n",
       "    </tr>\n",
       "    <tr>\n",
       "      <th>142</th>\n",
       "      <td>United Republic of Tanzania</td>\n",
       "      <td>2016</td>\n",
       "      <td>63.9</td>\n",
       "      <td>22.7</td>\n",
       "      <td>8.0</td>\n",
       "      <td>29.9</td>\n",
       "      <td>0.8</td>\n",
       "    </tr>\n",
       "    <tr>\n",
       "      <th>143</th>\n",
       "      <td>United States of America</td>\n",
       "      <td>2016</td>\n",
       "      <td>30.7</td>\n",
       "      <td>14.2</td>\n",
       "      <td>2.3</td>\n",
       "      <td>15.3</td>\n",
       "      <td>4.2</td>\n",
       "    </tr>\n",
       "    <tr>\n",
       "      <th>144</th>\n",
       "      <td>Uruguay</td>\n",
       "      <td>2016</td>\n",
       "      <td>0.0</td>\n",
       "      <td>45.7</td>\n",
       "      <td>7.0</td>\n",
       "      <td>16.6</td>\n",
       "      <td>0.0</td>\n",
       "    </tr>\n",
       "    <tr>\n",
       "      <th>145</th>\n",
       "      <td>Viet Nam</td>\n",
       "      <td>2016</td>\n",
       "      <td>52.2</td>\n",
       "      <td>0.0</td>\n",
       "      <td>0.0</td>\n",
       "      <td>0.0</td>\n",
       "      <td>0.0</td>\n",
       "    </tr>\n",
       "    <tr>\n",
       "      <th>147</th>\n",
       "      <td>Zimbabwe</td>\n",
       "      <td>2016</td>\n",
       "      <td>0.0</td>\n",
       "      <td>10.2</td>\n",
       "      <td>12.2</td>\n",
       "      <td>13.7</td>\n",
       "      <td>37.2</td>\n",
       "    </tr>\n",
       "  </tbody>\n",
       "</table>\n",
       "<p>139 rows × 7 columns</p>\n",
       "</div>"
      ],
      "text/plain": [
       "                         Country  Year  4wheeled_riders  3wheeled_riders  \\\n",
       "0                        Albania  2016             39.4             11.9   \n",
       "2                         Angola  2016             59.5              0.0   \n",
       "3            Antigua and Barbuda  2016             62.5              0.0   \n",
       "4                      Argentina  2016             47.2             22.2   \n",
       "5                        Armenia  2016             59.6              1.5   \n",
       "..                           ...   ...              ...              ...   \n",
       "142  United Republic of Tanzania  2016             63.9             22.7   \n",
       "143     United States of America  2016             30.7             14.2   \n",
       "144                      Uruguay  2016              0.0             45.7   \n",
       "145                     Viet Nam  2016             52.2              0.0   \n",
       "147                     Zimbabwe  2016              0.0             10.2   \n",
       "\n",
       "     Cyclists  Pedestrians  Other  \n",
       "0         7.8         38.7    2.2  \n",
       "2         0.0         40.5    0.0  \n",
       "3        12.5         25.0    0.0  \n",
       "4         2.4          8.2   20.0  \n",
       "5         0.4         34.8    3.7  \n",
       "..        ...          ...    ...  \n",
       "142       8.0         29.9    0.8  \n",
       "143       2.3         15.3    4.2  \n",
       "144       7.0         16.6    0.0  \n",
       "145       0.0          0.0    0.0  \n",
       "147      12.2         13.7   37.2  \n",
       "\n",
       "[139 rows x 7 columns]"
      ]
     },
     "execution_count": 70,
     "metadata": {},
     "output_type": "execute_result"
    }
   ],
   "source": [
    "##filter the records for a certain year\n",
    "df1 = df.loc[df['Year'] == 2016]\n",
    "df1.reset_index()\n",
    "df1"
   ]
  },
  {
   "cell_type": "code",
   "execution_count": 68,
   "metadata": {},
   "outputs": [
    {
     "data": {
      "text/html": [
       "<div>\n",
       "<style scoped>\n",
       "    .dataframe tbody tr th:only-of-type {\n",
       "        vertical-align: middle;\n",
       "    }\n",
       "\n",
       "    .dataframe tbody tr th {\n",
       "        vertical-align: top;\n",
       "    }\n",
       "\n",
       "    .dataframe thead th {\n",
       "        text-align: right;\n",
       "    }\n",
       "</style>\n",
       "<table border=\"1\" class=\"dataframe\">\n",
       "  <thead>\n",
       "    <tr style=\"text-align: right;\">\n",
       "      <th></th>\n",
       "      <th>4wheeled_riders</th>\n",
       "      <th>3wheeled_riders</th>\n",
       "      <th>Cyclists</th>\n",
       "      <th>Pedestrians</th>\n",
       "      <th>Other</th>\n",
       "    </tr>\n",
       "  </thead>\n",
       "  <tbody>\n",
       "    <tr>\n",
       "      <th>0</th>\n",
       "      <td>29.359363</td>\n",
       "      <td>4.115841</td>\n",
       "      <td>8.865124</td>\n",
       "      <td>17.960562</td>\n",
       "      <td>2.168647</td>\n",
       "    </tr>\n",
       "    <tr>\n",
       "      <th>2</th>\n",
       "      <td>44.337109</td>\n",
       "      <td>0.000000</td>\n",
       "      <td>0.000000</td>\n",
       "      <td>18.795937</td>\n",
       "      <td>0.000000</td>\n",
       "    </tr>\n",
       "    <tr>\n",
       "      <th>3</th>\n",
       "      <td>46.572594</td>\n",
       "      <td>0.000000</td>\n",
       "      <td>14.206930</td>\n",
       "      <td>11.602430</td>\n",
       "      <td>0.000000</td>\n",
       "    </tr>\n",
       "    <tr>\n",
       "      <th>4</th>\n",
       "      <td>35.171623</td>\n",
       "      <td>7.678291</td>\n",
       "      <td>2.727731</td>\n",
       "      <td>3.805597</td>\n",
       "      <td>19.714969</td>\n",
       "    </tr>\n",
       "    <tr>\n",
       "      <th>5</th>\n",
       "      <td>44.411625</td>\n",
       "      <td>0.518803</td>\n",
       "      <td>0.454622</td>\n",
       "      <td>16.150583</td>\n",
       "      <td>3.647269</td>\n",
       "    </tr>\n",
       "    <tr>\n",
       "      <th>...</th>\n",
       "      <td>...</td>\n",
       "      <td>...</td>\n",
       "      <td>...</td>\n",
       "      <td>...</td>\n",
       "      <td>...</td>\n",
       "    </tr>\n",
       "    <tr>\n",
       "      <th>142</th>\n",
       "      <td>47.615820</td>\n",
       "      <td>7.851225</td>\n",
       "      <td>9.092435</td>\n",
       "      <td>13.876506</td>\n",
       "      <td>0.788599</td>\n",
       "    </tr>\n",
       "    <tr>\n",
       "      <th>143</th>\n",
       "      <td>22.876458</td>\n",
       "      <td>4.911339</td>\n",
       "      <td>2.614075</td>\n",
       "      <td>7.100687</td>\n",
       "      <td>4.140143</td>\n",
       "    </tr>\n",
       "    <tr>\n",
       "      <th>144</th>\n",
       "      <td>0.000000</td>\n",
       "      <td>15.806211</td>\n",
       "      <td>7.955881</td>\n",
       "      <td>7.704014</td>\n",
       "      <td>0.000000</td>\n",
       "    </tr>\n",
       "    <tr>\n",
       "      <th>145</th>\n",
       "      <td>38.897430</td>\n",
       "      <td>0.000000</td>\n",
       "      <td>0.000000</td>\n",
       "      <td>0.000000</td>\n",
       "      <td>0.000000</td>\n",
       "    </tr>\n",
       "    <tr>\n",
       "      <th>147</th>\n",
       "      <td>0.000000</td>\n",
       "      <td>3.527863</td>\n",
       "      <td>13.865963</td>\n",
       "      <td>6.358132</td>\n",
       "      <td>36.669842</td>\n",
       "    </tr>\n",
       "  </tbody>\n",
       "</table>\n",
       "<p>139 rows × 5 columns</p>\n",
       "</div>"
      ],
      "text/plain": [
       "     4wheeled_riders  3wheeled_riders   Cyclists  Pedestrians      Other\n",
       "0          29.359363         4.115841   8.865124    17.960562   2.168647\n",
       "2          44.337109         0.000000   0.000000    18.795937   0.000000\n",
       "3          46.572594         0.000000  14.206930    11.602430   0.000000\n",
       "4          35.171623         7.678291   2.727731     3.805597  19.714969\n",
       "5          44.411625         0.518803   0.454622    16.150583   3.647269\n",
       "..               ...              ...        ...          ...        ...\n",
       "142        47.615820         7.851225   9.092435    13.876506   0.788599\n",
       "143        22.876458         4.911339   2.614075     7.100687   4.140143\n",
       "144         0.000000        15.806211   7.955881     7.704014   0.000000\n",
       "145        38.897430         0.000000   0.000000     0.000000   0.000000\n",
       "147         0.000000         3.527863  13.865963     6.358132  36.669842\n",
       "\n",
       "[139 rows x 5 columns]"
      ]
     },
     "execution_count": 68,
     "metadata": {},
     "output_type": "execute_result"
    }
   ],
   "source": [
    "#calculate weighted mean to the dataset\n",
    "y = np.random.randn(5)\n",
    "df2 = df1[['4wheeled_riders','3wheeled_riders','Cyclists','Pedestrians','Other']]\n",
    "df2*y"
   ]
  },
  {
   "cell_type": "code",
   "execution_count": 74,
   "metadata": {},
   "outputs": [
    {
     "data": {
      "text/html": [
       "<div>\n",
       "<style scoped>\n",
       "    .dataframe tbody tr th:only-of-type {\n",
       "        vertical-align: middle;\n",
       "    }\n",
       "\n",
       "    .dataframe tbody tr th {\n",
       "        vertical-align: top;\n",
       "    }\n",
       "\n",
       "    .dataframe thead th {\n",
       "        text-align: right;\n",
       "    }\n",
       "</style>\n",
       "<table border=\"1\" class=\"dataframe\">\n",
       "  <thead>\n",
       "    <tr style=\"text-align: right;\">\n",
       "      <th></th>\n",
       "      <th>count</th>\n",
       "      <th>mean</th>\n",
       "      <th>std</th>\n",
       "      <th>min</th>\n",
       "      <th>25%</th>\n",
       "      <th>50%</th>\n",
       "      <th>75%</th>\n",
       "      <th>max</th>\n",
       "    </tr>\n",
       "  </thead>\n",
       "  <tbody>\n",
       "    <tr>\n",
       "      <th>4wheeled_riders</th>\n",
       "      <td>139.0</td>\n",
       "      <td>35.971223</td>\n",
       "      <td>21.044292</td>\n",
       "      <td>0.0</td>\n",
       "      <td>18.30</td>\n",
       "      <td>40.3</td>\n",
       "      <td>51.95</td>\n",
       "      <td>75.0</td>\n",
       "    </tr>\n",
       "    <tr>\n",
       "      <th>3wheeled_riders</th>\n",
       "      <td>139.0</td>\n",
       "      <td>17.893525</td>\n",
       "      <td>19.159881</td>\n",
       "      <td>0.0</td>\n",
       "      <td>2.20</td>\n",
       "      <td>14.2</td>\n",
       "      <td>22.45</td>\n",
       "      <td>80.0</td>\n",
       "    </tr>\n",
       "    <tr>\n",
       "      <th>Cyclists</th>\n",
       "      <td>139.0</td>\n",
       "      <td>4.860432</td>\n",
       "      <td>6.710198</td>\n",
       "      <td>0.0</td>\n",
       "      <td>0.50</td>\n",
       "      <td>2.7</td>\n",
       "      <td>7.45</td>\n",
       "      <td>60.0</td>\n",
       "    </tr>\n",
       "    <tr>\n",
       "      <th>Pedestrians</th>\n",
       "      <td>139.0</td>\n",
       "      <td>23.995683</td>\n",
       "      <td>13.392518</td>\n",
       "      <td>0.0</td>\n",
       "      <td>15.30</td>\n",
       "      <td>24.6</td>\n",
       "      <td>33.15</td>\n",
       "      <td>64.7</td>\n",
       "    </tr>\n",
       "    <tr>\n",
       "      <th>Other</th>\n",
       "      <td>139.0</td>\n",
       "      <td>10.464029</td>\n",
       "      <td>16.036801</td>\n",
       "      <td>0.0</td>\n",
       "      <td>0.95</td>\n",
       "      <td>5.9</td>\n",
       "      <td>10.90</td>\n",
       "      <td>93.9</td>\n",
       "    </tr>\n",
       "  </tbody>\n",
       "</table>\n",
       "</div>"
      ],
      "text/plain": [
       "                 count       mean        std  min    25%   50%    75%   max\n",
       "4wheeled_riders  139.0  35.971223  21.044292  0.0  18.30  40.3  51.95  75.0\n",
       "3wheeled_riders  139.0  17.893525  19.159881  0.0   2.20  14.2  22.45  80.0\n",
       "Cyclists         139.0   4.860432   6.710198  0.0   0.50   2.7   7.45  60.0\n",
       "Pedestrians      139.0  23.995683  13.392518  0.0  15.30  24.6  33.15  64.7\n",
       "Other            139.0  10.464029  16.036801  0.0   0.95   5.9  10.90  93.9"
      ]
     },
     "execution_count": 74,
     "metadata": {},
     "output_type": "execute_result"
    }
   ],
   "source": [
    "df2.describe().T"
   ]
  },
  {
   "cell_type": "code",
   "execution_count": 109,
   "metadata": {},
   "outputs": [
    {
     "data": {
      "application/vnd.plotly.v1+json": {
       "config": {
        "linkText": "Export to plot.ly",
        "plotlyServerURL": "https://plot.ly",
        "showLink": true
       },
       "data": [
        {
         "histfunc": "count",
         "histnorm": "",
         "marker": {
          "color": "rgba(255, 153, 51, 1.0)",
          "line": {
           "color": "#008000",
           "width": 1.3
          }
         },
         "name": "4wheeled_riders",
         "nbinsx": 5,
         "opacity": 0.8,
         "orientation": "v",
         "type": "histogram",
         "x": [
          39.4,
          0,
          59.5,
          62.5,
          47.2,
          59.6,
          60.9,
          43.8,
          51.8,
          57.7,
          59.3,
          33.3,
          48.5,
          57.1,
          18.8,
          16.8,
          60.8,
          63.1,
          23.2,
          63.8,
          6.2,
          64.3,
          42,
          8.4,
          65.2,
          20,
          24,
          11.1,
          48.2,
          10.1,
          34.8,
          53.7,
          36.1,
          48.3,
          10,
          11,
          5.2,
          45.1,
          32.1,
          36.2,
          52.1,
          53.7,
          62.4,
          0,
          63.3,
          64.7,
          54.4,
          44.9,
          47.8,
          12,
          40.3,
          19.4,
          24.2,
          18.6,
          44.3,
          72.2,
          17.9,
          4.9,
          48.7,
          62.2,
          46.3,
          42.8,
          33,
          32.4,
          71.3,
          59.8,
          36.4,
          40,
          27.6,
          44.9,
          42.4,
          75,
          46.4,
          62.5,
          52.9,
          31.1,
          0,
          27.9,
          18.2,
          33.3,
          16.7,
          18.4,
          50,
          39.3,
          64.6,
          31.2,
          10.8,
          38,
          68.5,
          23.2,
          49.6,
          64.7,
          26.7,
          0,
          32.3,
          0,
          52.5,
          16.5,
          2.5,
          0.3,
          46.8,
          47.6,
          48.3,
          0,
          17.6,
          46.1,
          0,
          57.6,
          0,
          46.7,
          41.2,
          0,
          0,
          46.3,
          46.7,
          7.8,
          50.2,
          46.9,
          0,
          44.9,
          0,
          46.5,
          6.2,
          0,
          33.8,
          53.7,
          34.7,
          18.8,
          57.4,
          12.3,
          46.6,
          17.3,
          66.7,
          57.8,
          49.3,
          21.7,
          0,
          21.3,
          34,
          54.5,
          46.2,
          38.5,
          63.9,
          30.7,
          0,
          52.2,
          48.4,
          0
         ]
        }
       ],
       "layout": {
        "barmode": "overlay",
        "legend": {
         "bgcolor": "#FFFFFF",
         "font": {
          "color": "#4D5663"
         }
        },
        "paper_bgcolor": "#FFFFFF",
        "plot_bgcolor": "#FFFFFF",
        "template": {
         "data": {
          "bar": [
           {
            "error_x": {
             "color": "#2a3f5f"
            },
            "error_y": {
             "color": "#2a3f5f"
            },
            "marker": {
             "line": {
              "color": "#E5ECF6",
              "width": 0.5
             }
            },
            "type": "bar"
           }
          ],
          "barpolar": [
           {
            "marker": {
             "line": {
              "color": "#E5ECF6",
              "width": 0.5
             }
            },
            "type": "barpolar"
           }
          ],
          "carpet": [
           {
            "aaxis": {
             "endlinecolor": "#2a3f5f",
             "gridcolor": "white",
             "linecolor": "white",
             "minorgridcolor": "white",
             "startlinecolor": "#2a3f5f"
            },
            "baxis": {
             "endlinecolor": "#2a3f5f",
             "gridcolor": "white",
             "linecolor": "white",
             "minorgridcolor": "white",
             "startlinecolor": "#2a3f5f"
            },
            "type": "carpet"
           }
          ],
          "choropleth": [
           {
            "colorbar": {
             "outlinewidth": 0,
             "ticks": ""
            },
            "type": "choropleth"
           }
          ],
          "contour": [
           {
            "colorbar": {
             "outlinewidth": 0,
             "ticks": ""
            },
            "colorscale": [
             [
              0,
              "#0d0887"
             ],
             [
              0.1111111111111111,
              "#46039f"
             ],
             [
              0.2222222222222222,
              "#7201a8"
             ],
             [
              0.3333333333333333,
              "#9c179e"
             ],
             [
              0.4444444444444444,
              "#bd3786"
             ],
             [
              0.5555555555555556,
              "#d8576b"
             ],
             [
              0.6666666666666666,
              "#ed7953"
             ],
             [
              0.7777777777777778,
              "#fb9f3a"
             ],
             [
              0.8888888888888888,
              "#fdca26"
             ],
             [
              1,
              "#f0f921"
             ]
            ],
            "type": "contour"
           }
          ],
          "contourcarpet": [
           {
            "colorbar": {
             "outlinewidth": 0,
             "ticks": ""
            },
            "type": "contourcarpet"
           }
          ],
          "heatmap": [
           {
            "colorbar": {
             "outlinewidth": 0,
             "ticks": ""
            },
            "colorscale": [
             [
              0,
              "#0d0887"
             ],
             [
              0.1111111111111111,
              "#46039f"
             ],
             [
              0.2222222222222222,
              "#7201a8"
             ],
             [
              0.3333333333333333,
              "#9c179e"
             ],
             [
              0.4444444444444444,
              "#bd3786"
             ],
             [
              0.5555555555555556,
              "#d8576b"
             ],
             [
              0.6666666666666666,
              "#ed7953"
             ],
             [
              0.7777777777777778,
              "#fb9f3a"
             ],
             [
              0.8888888888888888,
              "#fdca26"
             ],
             [
              1,
              "#f0f921"
             ]
            ],
            "type": "heatmap"
           }
          ],
          "heatmapgl": [
           {
            "colorbar": {
             "outlinewidth": 0,
             "ticks": ""
            },
            "colorscale": [
             [
              0,
              "#0d0887"
             ],
             [
              0.1111111111111111,
              "#46039f"
             ],
             [
              0.2222222222222222,
              "#7201a8"
             ],
             [
              0.3333333333333333,
              "#9c179e"
             ],
             [
              0.4444444444444444,
              "#bd3786"
             ],
             [
              0.5555555555555556,
              "#d8576b"
             ],
             [
              0.6666666666666666,
              "#ed7953"
             ],
             [
              0.7777777777777778,
              "#fb9f3a"
             ],
             [
              0.8888888888888888,
              "#fdca26"
             ],
             [
              1,
              "#f0f921"
             ]
            ],
            "type": "heatmapgl"
           }
          ],
          "histogram": [
           {
            "marker": {
             "colorbar": {
              "outlinewidth": 0,
              "ticks": ""
             }
            },
            "type": "histogram"
           }
          ],
          "histogram2d": [
           {
            "colorbar": {
             "outlinewidth": 0,
             "ticks": ""
            },
            "colorscale": [
             [
              0,
              "#0d0887"
             ],
             [
              0.1111111111111111,
              "#46039f"
             ],
             [
              0.2222222222222222,
              "#7201a8"
             ],
             [
              0.3333333333333333,
              "#9c179e"
             ],
             [
              0.4444444444444444,
              "#bd3786"
             ],
             [
              0.5555555555555556,
              "#d8576b"
             ],
             [
              0.6666666666666666,
              "#ed7953"
             ],
             [
              0.7777777777777778,
              "#fb9f3a"
             ],
             [
              0.8888888888888888,
              "#fdca26"
             ],
             [
              1,
              "#f0f921"
             ]
            ],
            "type": "histogram2d"
           }
          ],
          "histogram2dcontour": [
           {
            "colorbar": {
             "outlinewidth": 0,
             "ticks": ""
            },
            "colorscale": [
             [
              0,
              "#0d0887"
             ],
             [
              0.1111111111111111,
              "#46039f"
             ],
             [
              0.2222222222222222,
              "#7201a8"
             ],
             [
              0.3333333333333333,
              "#9c179e"
             ],
             [
              0.4444444444444444,
              "#bd3786"
             ],
             [
              0.5555555555555556,
              "#d8576b"
             ],
             [
              0.6666666666666666,
              "#ed7953"
             ],
             [
              0.7777777777777778,
              "#fb9f3a"
             ],
             [
              0.8888888888888888,
              "#fdca26"
             ],
             [
              1,
              "#f0f921"
             ]
            ],
            "type": "histogram2dcontour"
           }
          ],
          "mesh3d": [
           {
            "colorbar": {
             "outlinewidth": 0,
             "ticks": ""
            },
            "type": "mesh3d"
           }
          ],
          "parcoords": [
           {
            "line": {
             "colorbar": {
              "outlinewidth": 0,
              "ticks": ""
             }
            },
            "type": "parcoords"
           }
          ],
          "pie": [
           {
            "automargin": true,
            "type": "pie"
           }
          ],
          "scatter": [
           {
            "marker": {
             "colorbar": {
              "outlinewidth": 0,
              "ticks": ""
             }
            },
            "type": "scatter"
           }
          ],
          "scatter3d": [
           {
            "line": {
             "colorbar": {
              "outlinewidth": 0,
              "ticks": ""
             }
            },
            "marker": {
             "colorbar": {
              "outlinewidth": 0,
              "ticks": ""
             }
            },
            "type": "scatter3d"
           }
          ],
          "scattercarpet": [
           {
            "marker": {
             "colorbar": {
              "outlinewidth": 0,
              "ticks": ""
             }
            },
            "type": "scattercarpet"
           }
          ],
          "scattergeo": [
           {
            "marker": {
             "colorbar": {
              "outlinewidth": 0,
              "ticks": ""
             }
            },
            "type": "scattergeo"
           }
          ],
          "scattergl": [
           {
            "marker": {
             "colorbar": {
              "outlinewidth": 0,
              "ticks": ""
             }
            },
            "type": "scattergl"
           }
          ],
          "scattermapbox": [
           {
            "marker": {
             "colorbar": {
              "outlinewidth": 0,
              "ticks": ""
             }
            },
            "type": "scattermapbox"
           }
          ],
          "scatterpolar": [
           {
            "marker": {
             "colorbar": {
              "outlinewidth": 0,
              "ticks": ""
             }
            },
            "type": "scatterpolar"
           }
          ],
          "scatterpolargl": [
           {
            "marker": {
             "colorbar": {
              "outlinewidth": 0,
              "ticks": ""
             }
            },
            "type": "scatterpolargl"
           }
          ],
          "scatterternary": [
           {
            "marker": {
             "colorbar": {
              "outlinewidth": 0,
              "ticks": ""
             }
            },
            "type": "scatterternary"
           }
          ],
          "surface": [
           {
            "colorbar": {
             "outlinewidth": 0,
             "ticks": ""
            },
            "colorscale": [
             [
              0,
              "#0d0887"
             ],
             [
              0.1111111111111111,
              "#46039f"
             ],
             [
              0.2222222222222222,
              "#7201a8"
             ],
             [
              0.3333333333333333,
              "#9c179e"
             ],
             [
              0.4444444444444444,
              "#bd3786"
             ],
             [
              0.5555555555555556,
              "#d8576b"
             ],
             [
              0.6666666666666666,
              "#ed7953"
             ],
             [
              0.7777777777777778,
              "#fb9f3a"
             ],
             [
              0.8888888888888888,
              "#fdca26"
             ],
             [
              1,
              "#f0f921"
             ]
            ],
            "type": "surface"
           }
          ],
          "table": [
           {
            "cells": {
             "fill": {
              "color": "#EBF0F8"
             },
             "line": {
              "color": "white"
             }
            },
            "header": {
             "fill": {
              "color": "#C8D4E3"
             },
             "line": {
              "color": "white"
             }
            },
            "type": "table"
           }
          ]
         },
         "layout": {
          "annotationdefaults": {
           "arrowcolor": "#2a3f5f",
           "arrowhead": 0,
           "arrowwidth": 1
          },
          "coloraxis": {
           "colorbar": {
            "outlinewidth": 0,
            "ticks": ""
           }
          },
          "colorscale": {
           "diverging": [
            [
             0,
             "#8e0152"
            ],
            [
             0.1,
             "#c51b7d"
            ],
            [
             0.2,
             "#de77ae"
            ],
            [
             0.3,
             "#f1b6da"
            ],
            [
             0.4,
             "#fde0ef"
            ],
            [
             0.5,
             "#f7f7f7"
            ],
            [
             0.6,
             "#e6f5d0"
            ],
            [
             0.7,
             "#b8e186"
            ],
            [
             0.8,
             "#7fbc41"
            ],
            [
             0.9,
             "#4d9221"
            ],
            [
             1,
             "#276419"
            ]
           ],
           "sequential": [
            [
             0,
             "#0d0887"
            ],
            [
             0.1111111111111111,
             "#46039f"
            ],
            [
             0.2222222222222222,
             "#7201a8"
            ],
            [
             0.3333333333333333,
             "#9c179e"
            ],
            [
             0.4444444444444444,
             "#bd3786"
            ],
            [
             0.5555555555555556,
             "#d8576b"
            ],
            [
             0.6666666666666666,
             "#ed7953"
            ],
            [
             0.7777777777777778,
             "#fb9f3a"
            ],
            [
             0.8888888888888888,
             "#fdca26"
            ],
            [
             1,
             "#f0f921"
            ]
           ],
           "sequentialminus": [
            [
             0,
             "#0d0887"
            ],
            [
             0.1111111111111111,
             "#46039f"
            ],
            [
             0.2222222222222222,
             "#7201a8"
            ],
            [
             0.3333333333333333,
             "#9c179e"
            ],
            [
             0.4444444444444444,
             "#bd3786"
            ],
            [
             0.5555555555555556,
             "#d8576b"
            ],
            [
             0.6666666666666666,
             "#ed7953"
            ],
            [
             0.7777777777777778,
             "#fb9f3a"
            ],
            [
             0.8888888888888888,
             "#fdca26"
            ],
            [
             1,
             "#f0f921"
            ]
           ]
          },
          "colorway": [
           "#636efa",
           "#EF553B",
           "#00cc96",
           "#ab63fa",
           "#FFA15A",
           "#19d3f3",
           "#FF6692",
           "#B6E880",
           "#FF97FF",
           "#FECB52"
          ],
          "font": {
           "color": "#2a3f5f"
          },
          "geo": {
           "bgcolor": "white",
           "lakecolor": "white",
           "landcolor": "#E5ECF6",
           "showlakes": true,
           "showland": true,
           "subunitcolor": "white"
          },
          "hoverlabel": {
           "align": "left"
          },
          "hovermode": "closest",
          "mapbox": {
           "style": "light"
          },
          "paper_bgcolor": "white",
          "plot_bgcolor": "#E5ECF6",
          "polar": {
           "angularaxis": {
            "gridcolor": "white",
            "linecolor": "white",
            "ticks": ""
           },
           "bgcolor": "#E5ECF6",
           "radialaxis": {
            "gridcolor": "white",
            "linecolor": "white",
            "ticks": ""
           }
          },
          "scene": {
           "xaxis": {
            "backgroundcolor": "#E5ECF6",
            "gridcolor": "white",
            "gridwidth": 2,
            "linecolor": "white",
            "showbackground": true,
            "ticks": "",
            "zerolinecolor": "white"
           },
           "yaxis": {
            "backgroundcolor": "#E5ECF6",
            "gridcolor": "white",
            "gridwidth": 2,
            "linecolor": "white",
            "showbackground": true,
            "ticks": "",
            "zerolinecolor": "white"
           },
           "zaxis": {
            "backgroundcolor": "#E5ECF6",
            "gridcolor": "white",
            "gridwidth": 2,
            "linecolor": "white",
            "showbackground": true,
            "ticks": "",
            "zerolinecolor": "white"
           }
          },
          "shapedefaults": {
           "line": {
            "color": "#2a3f5f"
           }
          },
          "ternary": {
           "aaxis": {
            "gridcolor": "white",
            "linecolor": "white",
            "ticks": ""
           },
           "baxis": {
            "gridcolor": "white",
            "linecolor": "white",
            "ticks": ""
           },
           "bgcolor": "#E5ECF6",
           "caxis": {
            "gridcolor": "white",
            "linecolor": "white",
            "ticks": ""
           }
          },
          "title": {
           "x": 0.05
          },
          "xaxis": {
           "automargin": true,
           "gridcolor": "white",
           "linecolor": "white",
           "ticks": "",
           "title": {
            "standoff": 15
           },
           "zerolinecolor": "white",
           "zerolinewidth": 2
          },
          "yaxis": {
           "automargin": true,
           "gridcolor": "white",
           "linecolor": "white",
           "ticks": "",
           "title": {
            "standoff": 15
           },
           "zerolinecolor": "white",
           "zerolinewidth": 2
          }
         }
        },
        "title": {
         "font": {
          "color": "#4D5663"
         },
         "text": "Histogram of 4 wheeled drivers"
        },
        "xaxis": {
         "gridcolor": "#E1E5ED",
         "linecolor": "green",
         "showgrid": true,
         "tickfont": {
          "color": "#4D5663"
         },
         "title": {
          "font": {
           "color": "#4D5663"
          },
          "text": "Distribution of road traffic deaths by type of road user"
         },
         "zerolinecolor": "#E1E5ED"
        },
        "yaxis": {
         "gridcolor": "#E1E5ED",
         "linecolor": "green",
         "showgrid": true,
         "tickfont": {
          "color": "#4D5663"
         },
         "title": {
          "font": {
           "color": "#4D5663"
          },
          "text": "count"
         },
         "zerolinecolor": "#E1E5ED"
        }
       }
      },
      "text/html": [
       "<div>\n",
       "        \n",
       "        \n",
       "            <div id=\"dcdf13ca-8fb3-4786-8b41-ecfc29e80f46\" class=\"plotly-graph-div\" style=\"height:525px; width:100%;\"></div>\n",
       "            <script type=\"text/javascript\">\n",
       "                require([\"plotly\"], function(Plotly) {\n",
       "                    window.PLOTLYENV=window.PLOTLYENV || {};\n",
       "                    window.PLOTLYENV.BASE_URL='https://plot.ly';\n",
       "                    \n",
       "                if (document.getElementById(\"dcdf13ca-8fb3-4786-8b41-ecfc29e80f46\")) {\n",
       "                    Plotly.newPlot(\n",
       "                        'dcdf13ca-8fb3-4786-8b41-ecfc29e80f46',\n",
       "                        [{\"histfunc\": \"count\", \"histnorm\": \"\", \"marker\": {\"color\": \"rgba(255, 153, 51, 1.0)\", \"line\": {\"color\": \"#008000\", \"width\": 1.3}}, \"name\": \"4wheeled_riders\", \"nbinsx\": 5, \"opacity\": 0.8, \"orientation\": \"v\", \"type\": \"histogram\", \"x\": [39.4, 0.0, 59.5, 62.5, 47.2, 59.6, 60.9, 43.8, 51.8, 57.7, 59.3, 33.3, 48.5, 57.1, 18.8, 16.8, 60.8, 63.1, 23.2, 63.8, 6.2, 64.3, 42.0, 8.4, 65.2, 20.0, 24.0, 11.1, 48.2, 10.1, 34.8, 53.7, 36.1, 48.3, 10.0, 11.0, 5.2, 45.1, 32.1, 36.2, 52.1, 53.7, 62.4, 0.0, 63.3, 64.7, 54.4, 44.9, 47.8, 12.0, 40.3, 19.4, 24.2, 18.6, 44.3, 72.2, 17.9, 4.9, 48.7, 62.2, 46.3, 42.8, 33.0, 32.4, 71.3, 59.8, 36.4, 40.0, 27.6, 44.9, 42.4, 75.0, 46.4, 62.5, 52.9, 31.1, 0.0, 27.9, 18.2, 33.3, 16.7, 18.4, 50.0, 39.3, 64.6, 31.2, 10.8, 38.0, 68.5, 23.2, 49.6, 64.7, 26.7, 0.0, 32.3, 0.0, 52.5, 16.5, 2.5, 0.3, 46.8, 47.6, 48.3, 0.0, 17.6, 46.1, 0.0, 57.6, 0.0, 46.7, 41.2, 0.0, 0.0, 46.3, 46.7, 7.8, 50.2, 46.9, 0.0, 44.9, 0.0, 46.5, 6.2, 0.0, 33.8, 53.7, 34.7, 18.8, 57.4, 12.3, 46.6, 17.3, 66.7, 57.8, 49.3, 21.7, 0.0, 21.3, 34.0, 54.5, 46.2, 38.5, 63.9, 30.7, 0.0, 52.2, 48.4, 0.0]}],\n",
       "                        {\"barmode\": \"overlay\", \"legend\": {\"bgcolor\": \"#FFFFFF\", \"font\": {\"color\": \"#4D5663\"}}, \"paper_bgcolor\": \"#FFFFFF\", \"plot_bgcolor\": \"#FFFFFF\", \"template\": {\"data\": {\"bar\": [{\"error_x\": {\"color\": \"#2a3f5f\"}, \"error_y\": {\"color\": \"#2a3f5f\"}, \"marker\": {\"line\": {\"color\": \"#E5ECF6\", \"width\": 0.5}}, \"type\": \"bar\"}], \"barpolar\": [{\"marker\": {\"line\": {\"color\": \"#E5ECF6\", \"width\": 0.5}}, \"type\": \"barpolar\"}], \"carpet\": [{\"aaxis\": {\"endlinecolor\": \"#2a3f5f\", \"gridcolor\": \"white\", \"linecolor\": \"white\", \"minorgridcolor\": \"white\", \"startlinecolor\": \"#2a3f5f\"}, \"baxis\": {\"endlinecolor\": \"#2a3f5f\", \"gridcolor\": \"white\", \"linecolor\": \"white\", \"minorgridcolor\": \"white\", \"startlinecolor\": \"#2a3f5f\"}, \"type\": \"carpet\"}], \"choropleth\": [{\"colorbar\": {\"outlinewidth\": 0, \"ticks\": \"\"}, \"type\": \"choropleth\"}], \"contour\": [{\"colorbar\": {\"outlinewidth\": 0, \"ticks\": \"\"}, \"colorscale\": [[0.0, \"#0d0887\"], [0.1111111111111111, \"#46039f\"], [0.2222222222222222, \"#7201a8\"], [0.3333333333333333, \"#9c179e\"], [0.4444444444444444, \"#bd3786\"], [0.5555555555555556, \"#d8576b\"], [0.6666666666666666, \"#ed7953\"], [0.7777777777777778, \"#fb9f3a\"], [0.8888888888888888, \"#fdca26\"], [1.0, \"#f0f921\"]], \"type\": \"contour\"}], \"contourcarpet\": [{\"colorbar\": {\"outlinewidth\": 0, \"ticks\": \"\"}, \"type\": \"contourcarpet\"}], \"heatmap\": [{\"colorbar\": {\"outlinewidth\": 0, \"ticks\": \"\"}, \"colorscale\": [[0.0, \"#0d0887\"], [0.1111111111111111, \"#46039f\"], [0.2222222222222222, \"#7201a8\"], [0.3333333333333333, \"#9c179e\"], [0.4444444444444444, \"#bd3786\"], [0.5555555555555556, \"#d8576b\"], [0.6666666666666666, \"#ed7953\"], [0.7777777777777778, \"#fb9f3a\"], [0.8888888888888888, \"#fdca26\"], [1.0, \"#f0f921\"]], \"type\": \"heatmap\"}], \"heatmapgl\": [{\"colorbar\": {\"outlinewidth\": 0, \"ticks\": \"\"}, \"colorscale\": [[0.0, \"#0d0887\"], [0.1111111111111111, \"#46039f\"], [0.2222222222222222, \"#7201a8\"], [0.3333333333333333, \"#9c179e\"], [0.4444444444444444, \"#bd3786\"], [0.5555555555555556, \"#d8576b\"], [0.6666666666666666, \"#ed7953\"], [0.7777777777777778, \"#fb9f3a\"], [0.8888888888888888, \"#fdca26\"], [1.0, \"#f0f921\"]], \"type\": \"heatmapgl\"}], \"histogram\": [{\"marker\": {\"colorbar\": {\"outlinewidth\": 0, \"ticks\": \"\"}}, \"type\": \"histogram\"}], \"histogram2d\": [{\"colorbar\": {\"outlinewidth\": 0, \"ticks\": \"\"}, \"colorscale\": [[0.0, \"#0d0887\"], [0.1111111111111111, \"#46039f\"], [0.2222222222222222, \"#7201a8\"], [0.3333333333333333, \"#9c179e\"], [0.4444444444444444, \"#bd3786\"], [0.5555555555555556, \"#d8576b\"], [0.6666666666666666, \"#ed7953\"], [0.7777777777777778, \"#fb9f3a\"], [0.8888888888888888, \"#fdca26\"], [1.0, \"#f0f921\"]], \"type\": \"histogram2d\"}], \"histogram2dcontour\": [{\"colorbar\": {\"outlinewidth\": 0, \"ticks\": \"\"}, \"colorscale\": [[0.0, \"#0d0887\"], [0.1111111111111111, \"#46039f\"], [0.2222222222222222, \"#7201a8\"], [0.3333333333333333, \"#9c179e\"], [0.4444444444444444, \"#bd3786\"], [0.5555555555555556, \"#d8576b\"], [0.6666666666666666, \"#ed7953\"], [0.7777777777777778, \"#fb9f3a\"], [0.8888888888888888, \"#fdca26\"], [1.0, \"#f0f921\"]], \"type\": \"histogram2dcontour\"}], \"mesh3d\": [{\"colorbar\": {\"outlinewidth\": 0, \"ticks\": \"\"}, \"type\": \"mesh3d\"}], \"parcoords\": [{\"line\": {\"colorbar\": {\"outlinewidth\": 0, \"ticks\": \"\"}}, \"type\": \"parcoords\"}], \"pie\": [{\"automargin\": true, \"type\": \"pie\"}], \"scatter\": [{\"marker\": {\"colorbar\": {\"outlinewidth\": 0, \"ticks\": \"\"}}, \"type\": \"scatter\"}], \"scatter3d\": [{\"line\": {\"colorbar\": {\"outlinewidth\": 0, \"ticks\": \"\"}}, \"marker\": {\"colorbar\": {\"outlinewidth\": 0, \"ticks\": \"\"}}, \"type\": \"scatter3d\"}], \"scattercarpet\": [{\"marker\": {\"colorbar\": {\"outlinewidth\": 0, \"ticks\": \"\"}}, \"type\": \"scattercarpet\"}], \"scattergeo\": [{\"marker\": {\"colorbar\": {\"outlinewidth\": 0, \"ticks\": \"\"}}, \"type\": \"scattergeo\"}], \"scattergl\": [{\"marker\": {\"colorbar\": {\"outlinewidth\": 0, \"ticks\": \"\"}}, \"type\": \"scattergl\"}], \"scattermapbox\": [{\"marker\": {\"colorbar\": {\"outlinewidth\": 0, \"ticks\": \"\"}}, \"type\": \"scattermapbox\"}], \"scatterpolar\": [{\"marker\": {\"colorbar\": {\"outlinewidth\": 0, \"ticks\": \"\"}}, \"type\": \"scatterpolar\"}], \"scatterpolargl\": [{\"marker\": {\"colorbar\": {\"outlinewidth\": 0, \"ticks\": \"\"}}, \"type\": \"scatterpolargl\"}], \"scatterternary\": [{\"marker\": {\"colorbar\": {\"outlinewidth\": 0, \"ticks\": \"\"}}, \"type\": \"scatterternary\"}], \"surface\": [{\"colorbar\": {\"outlinewidth\": 0, \"ticks\": \"\"}, \"colorscale\": [[0.0, \"#0d0887\"], [0.1111111111111111, \"#46039f\"], [0.2222222222222222, \"#7201a8\"], [0.3333333333333333, \"#9c179e\"], [0.4444444444444444, \"#bd3786\"], [0.5555555555555556, \"#d8576b\"], [0.6666666666666666, \"#ed7953\"], [0.7777777777777778, \"#fb9f3a\"], [0.8888888888888888, \"#fdca26\"], [1.0, \"#f0f921\"]], \"type\": \"surface\"}], \"table\": [{\"cells\": {\"fill\": {\"color\": \"#EBF0F8\"}, \"line\": {\"color\": \"white\"}}, \"header\": {\"fill\": {\"color\": \"#C8D4E3\"}, \"line\": {\"color\": \"white\"}}, \"type\": \"table\"}]}, \"layout\": {\"annotationdefaults\": {\"arrowcolor\": \"#2a3f5f\", \"arrowhead\": 0, \"arrowwidth\": 1}, \"coloraxis\": {\"colorbar\": {\"outlinewidth\": 0, \"ticks\": \"\"}}, \"colorscale\": {\"diverging\": [[0, \"#8e0152\"], [0.1, \"#c51b7d\"], [0.2, \"#de77ae\"], [0.3, \"#f1b6da\"], [0.4, \"#fde0ef\"], [0.5, \"#f7f7f7\"], [0.6, \"#e6f5d0\"], [0.7, \"#b8e186\"], [0.8, \"#7fbc41\"], [0.9, \"#4d9221\"], [1, \"#276419\"]], \"sequential\": [[0.0, \"#0d0887\"], [0.1111111111111111, \"#46039f\"], [0.2222222222222222, \"#7201a8\"], [0.3333333333333333, \"#9c179e\"], [0.4444444444444444, \"#bd3786\"], [0.5555555555555556, \"#d8576b\"], [0.6666666666666666, \"#ed7953\"], [0.7777777777777778, \"#fb9f3a\"], [0.8888888888888888, \"#fdca26\"], [1.0, \"#f0f921\"]], \"sequentialminus\": [[0.0, \"#0d0887\"], [0.1111111111111111, \"#46039f\"], [0.2222222222222222, \"#7201a8\"], [0.3333333333333333, \"#9c179e\"], [0.4444444444444444, \"#bd3786\"], [0.5555555555555556, \"#d8576b\"], [0.6666666666666666, \"#ed7953\"], [0.7777777777777778, \"#fb9f3a\"], [0.8888888888888888, \"#fdca26\"], [1.0, \"#f0f921\"]]}, \"colorway\": [\"#636efa\", \"#EF553B\", \"#00cc96\", \"#ab63fa\", \"#FFA15A\", \"#19d3f3\", \"#FF6692\", \"#B6E880\", \"#FF97FF\", \"#FECB52\"], \"font\": {\"color\": \"#2a3f5f\"}, \"geo\": {\"bgcolor\": \"white\", \"lakecolor\": \"white\", \"landcolor\": \"#E5ECF6\", \"showlakes\": true, \"showland\": true, \"subunitcolor\": \"white\"}, \"hoverlabel\": {\"align\": \"left\"}, \"hovermode\": \"closest\", \"mapbox\": {\"style\": \"light\"}, \"paper_bgcolor\": \"white\", \"plot_bgcolor\": \"#E5ECF6\", \"polar\": {\"angularaxis\": {\"gridcolor\": \"white\", \"linecolor\": \"white\", \"ticks\": \"\"}, \"bgcolor\": \"#E5ECF6\", \"radialaxis\": {\"gridcolor\": \"white\", \"linecolor\": \"white\", \"ticks\": \"\"}}, \"scene\": {\"xaxis\": {\"backgroundcolor\": \"#E5ECF6\", \"gridcolor\": \"white\", \"gridwidth\": 2, \"linecolor\": \"white\", \"showbackground\": true, \"ticks\": \"\", \"zerolinecolor\": \"white\"}, \"yaxis\": {\"backgroundcolor\": \"#E5ECF6\", \"gridcolor\": \"white\", \"gridwidth\": 2, \"linecolor\": \"white\", \"showbackground\": true, \"ticks\": \"\", \"zerolinecolor\": \"white\"}, \"zaxis\": {\"backgroundcolor\": \"#E5ECF6\", \"gridcolor\": \"white\", \"gridwidth\": 2, \"linecolor\": \"white\", \"showbackground\": true, \"ticks\": \"\", \"zerolinecolor\": \"white\"}}, \"shapedefaults\": {\"line\": {\"color\": \"#2a3f5f\"}}, \"ternary\": {\"aaxis\": {\"gridcolor\": \"white\", \"linecolor\": \"white\", \"ticks\": \"\"}, \"baxis\": {\"gridcolor\": \"white\", \"linecolor\": \"white\", \"ticks\": \"\"}, \"bgcolor\": \"#E5ECF6\", \"caxis\": {\"gridcolor\": \"white\", \"linecolor\": \"white\", \"ticks\": \"\"}}, \"title\": {\"x\": 0.05}, \"xaxis\": {\"automargin\": true, \"gridcolor\": \"white\", \"linecolor\": \"white\", \"ticks\": \"\", \"title\": {\"standoff\": 15}, \"zerolinecolor\": \"white\", \"zerolinewidth\": 2}, \"yaxis\": {\"automargin\": true, \"gridcolor\": \"white\", \"linecolor\": \"white\", \"ticks\": \"\", \"title\": {\"standoff\": 15}, \"zerolinecolor\": \"white\", \"zerolinewidth\": 2}}}, \"title\": {\"font\": {\"color\": \"#4D5663\"}, \"text\": \"Histogram of 4 wheeled drivers\"}, \"xaxis\": {\"gridcolor\": \"#E1E5ED\", \"linecolor\": \"green\", \"showgrid\": true, \"tickfont\": {\"color\": \"#4D5663\"}, \"title\": {\"font\": {\"color\": \"#4D5663\"}, \"text\": \"Distribution of road traffic deaths by type of road user\"}, \"zerolinecolor\": \"#E1E5ED\"}, \"yaxis\": {\"gridcolor\": \"#E1E5ED\", \"linecolor\": \"green\", \"showgrid\": true, \"tickfont\": {\"color\": \"#4D5663\"}, \"title\": {\"font\": {\"color\": \"#4D5663\"}, \"text\": \"count\"}, \"zerolinecolor\": \"#E1E5ED\"}},\n",
       "                        {\"showLink\": true, \"linkText\": \"Export to plot.ly\", \"plotlyServerURL\": \"https://plot.ly\", \"responsive\": true}\n",
       "                    ).then(function(){\n",
       "                            \n",
       "var gd = document.getElementById('dcdf13ca-8fb3-4786-8b41-ecfc29e80f46');\n",
       "var x = new MutationObserver(function (mutations, observer) {{\n",
       "        var display = window.getComputedStyle(gd).display;\n",
       "        if (!display || display === 'none') {{\n",
       "            console.log([gd, 'removed!']);\n",
       "            Plotly.purge(gd);\n",
       "            observer.disconnect();\n",
       "        }}\n",
       "}});\n",
       "\n",
       "// Listen for the removal of the full notebook cells\n",
       "var notebookContainer = gd.closest('#notebook-container');\n",
       "if (notebookContainer) {{\n",
       "    x.observe(notebookContainer, {childList: true});\n",
       "}}\n",
       "\n",
       "// Listen for the clearing of the current output cell\n",
       "var outputEl = gd.closest('.output');\n",
       "if (outputEl) {{\n",
       "    x.observe(outputEl, {childList: true});\n",
       "}}\n",
       "\n",
       "                        })\n",
       "                };\n",
       "                });\n",
       "            </script>\n",
       "        </div>"
      ]
     },
     "metadata": {},
     "output_type": "display_data"
    }
   ],
   "source": [
    "df['4wheeled_riders'].iplot(\n",
    "    kind='hist',\n",
    "    bins=5,\n",
    "    xTitle='Distribution of road traffic deaths by type of road user',\n",
    "    linecolor='green',\n",
    "    yTitle='count',\n",
    "    title='Histogram of 4 wheeled drivers')"
   ]
  },
  {
   "cell_type": "code",
   "execution_count": 133,
   "metadata": {},
   "outputs": [
    {
     "data": {
      "image/png": "[encoded data removed]",
      "text/plain": [
       "<Figure size 1440x720 with 1 Axes>"
      ]
     },
     "metadata": {
      "needs_background": "light"
     },
     "output_type": "display_data"
    }
   ],
   "source": [
    "##df.sort_values('Pedestrians',ascending=0)[:10].plot(kind='bar')\n",
    "\n",
    "df1 = df.sort_values('Pedestrians', ascending=False).head(10)\n",
    "df1.plot(x ='Country', y='Pedestrians', kind = 'bar', title='Percentage of road traffic deaths by pedestrians',\n",
    "              sort_columns='Pedestrians'   , figsize=(20,10))\n",
    "plt.show()"
   ]
  },
  {
   "cell_type": "code",
   "execution_count": 143,
   "metadata": {},
   "outputs": [
    {
     "data": {
      "image/png": "[encoded data removed]",
      "text/plain": [
       "<Figure size 1440x1440 with 4 Axes>"
      ]
     },
     "metadata": {
      "needs_background": "light"
     },
     "output_type": "display_data"
    }
   ],
   "source": [
    "df1 = df.sort_values('4wheeled_riders', ascending=False).head(10)\n",
    "df2 = df.sort_values('3wheeled_riders', ascending=False).head(10)\n",
    "df3 = df.sort_values('Cyclists', ascending=False).head(10)\n",
    "df4 = df.sort_values('Pedestrians', ascending=False).head(10)\n",
    "\n",
    "##4 subplots \n",
    "fig, axes = plt.subplots(nrows=2, ncols=2,figsize=(20,20))\n",
    "\n",
    "df1.plot(x ='Country', y='4wheeled_riders', kind = 'bar', \n",
    "              sort_columns='4wheeled_riders'   , ax=axes[0,0])\n",
    "df2.plot(x ='Country', y='3wheeled_riders', kind = 'bar',\n",
    "              sort_columns='3wheeled_riders'   , ax=axes[0,1])\n",
    "df3.plot(x ='Country', y='Cyclists', kind = 'bar',\n",
    "              sort_columns='Cyclists'   , ax=axes[1,0])\n",
    "df4.plot(x ='Country', y='Pedestrians', kind = 'bar',\n",
    "              sort_columns='Pedestrians'   , ax=axes[1,1])\n",
    "\n",
    "\n",
    "plt.show()\n",
    "\n",
    "##df1.plot(ax=axes[0,0])\n",
    "##df2.plot(ax=axes[0,1])\n"
   ]
  },
  {
   "cell_type": "code",
   "execution_count": 144,
   "metadata": {},
   "outputs": [
    {
     "data": {
      "text/plain": [
       "'C1'"
      ]
     },
     "execution_count": 144,
     "metadata": {},
     "output_type": "execute_result"
    }
   ],
   "source": [
    "df.index.name='C1'\n",
    "df.index.name\n",
    "##df.index"
   ]
  },
  {
   "cell_type": "code",
   "execution_count": 181,
   "metadata": {},
   "outputs": [
    {
     "data": {
      "text/html": [
       "<div>\n",
       "<style scoped>\n",
       "    .dataframe tbody tr th:only-of-type {\n",
       "        vertical-align: middle;\n",
       "    }\n",
       "\n",
       "    .dataframe tbody tr th {\n",
       "        vertical-align: top;\n",
       "    }\n",
       "\n",
       "    .dataframe thead th {\n",
       "        text-align: right;\n",
       "    }\n",
       "</style>\n",
       "<table border=\"1\" class=\"dataframe\">\n",
       "  <thead>\n",
       "    <tr style=\"text-align: right;\">\n",
       "      <th></th>\n",
       "      <th>Country</th>\n",
       "      <th>4wheeled_riders</th>\n",
       "      <th>3wheeled_riders</th>\n",
       "      <th>Cyclists</th>\n",
       "      <th>Pedestrians</th>\n",
       "      <th>Other</th>\n",
       "    </tr>\n",
       "    <tr>\n",
       "      <th>C1</th>\n",
       "      <th></th>\n",
       "      <th></th>\n",
       "      <th></th>\n",
       "      <th></th>\n",
       "      <th></th>\n",
       "      <th></th>\n",
       "    </tr>\n",
       "  </thead>\n",
       "  <tbody>\n",
       "    <tr>\n",
       "      <th>120</th>\n",
       "      <td>South Africa</td>\n",
       "      <td>0.0</td>\n",
       "      <td>0.3</td>\n",
       "      <td>3.2</td>\n",
       "      <td>0.0</td>\n",
       "      <td>13.1</td>\n",
       "    </tr>\n",
       "    <tr>\n",
       "      <th>121</th>\n",
       "      <td>South Sudan</td>\n",
       "      <td>46.5</td>\n",
       "      <td>0.0</td>\n",
       "      <td>0.0</td>\n",
       "      <td>21.5</td>\n",
       "      <td>0.0</td>\n",
       "    </tr>\n",
       "    <tr>\n",
       "      <th>122</th>\n",
       "      <td>Spain</td>\n",
       "      <td>6.2</td>\n",
       "      <td>21.9</td>\n",
       "      <td>3.7</td>\n",
       "      <td>29.2</td>\n",
       "      <td>6.4</td>\n",
       "    </tr>\n",
       "    <tr>\n",
       "      <th>123</th>\n",
       "      <td>Sri Lanka</td>\n",
       "      <td>0.0</td>\n",
       "      <td>50.8</td>\n",
       "      <td>8.1</td>\n",
       "      <td>28.6</td>\n",
       "      <td>5.7</td>\n",
       "    </tr>\n",
       "    <tr>\n",
       "      <th>124</th>\n",
       "      <td>Sudan</td>\n",
       "      <td>33.8</td>\n",
       "      <td>0.0</td>\n",
       "      <td>0.0</td>\n",
       "      <td>14.9</td>\n",
       "      <td>71.4</td>\n",
       "    </tr>\n",
       "    <tr>\n",
       "      <th>125</th>\n",
       "      <td>Suriname</td>\n",
       "      <td>53.7</td>\n",
       "      <td>45.9</td>\n",
       "      <td>4.1</td>\n",
       "      <td>15.6</td>\n",
       "      <td>1.4</td>\n",
       "    </tr>\n",
       "    <tr>\n",
       "      <th>126</th>\n",
       "      <td>Sweden</td>\n",
       "      <td>34.7</td>\n",
       "      <td>16.3</td>\n",
       "      <td>8.1</td>\n",
       "      <td>0.0</td>\n",
       "      <td>6.3</td>\n",
       "    </tr>\n",
       "    <tr>\n",
       "      <th>127</th>\n",
       "      <td>Switzerland</td>\n",
       "      <td>18.8</td>\n",
       "      <td>22.7</td>\n",
       "      <td>15.3</td>\n",
       "      <td>23.1</td>\n",
       "      <td>4.2</td>\n",
       "    </tr>\n",
       "    <tr>\n",
       "      <th>128</th>\n",
       "      <td>Syrian Arab Republic</td>\n",
       "      <td>57.4</td>\n",
       "      <td>6.4</td>\n",
       "      <td>5.9</td>\n",
       "      <td>64.7</td>\n",
       "      <td>4.2</td>\n",
       "    </tr>\n",
       "    <tr>\n",
       "      <th>129</th>\n",
       "      <td>Tajikistan</td>\n",
       "      <td>12.3</td>\n",
       "      <td>0.0</td>\n",
       "      <td>2.3</td>\n",
       "      <td>40.3</td>\n",
       "      <td>0.0</td>\n",
       "    </tr>\n",
       "    <tr>\n",
       "      <th>130</th>\n",
       "      <td>Thailand</td>\n",
       "      <td>46.6</td>\n",
       "      <td>74.4</td>\n",
       "      <td>3.5</td>\n",
       "      <td>7.6</td>\n",
       "      <td>2.3</td>\n",
       "    </tr>\n",
       "    <tr>\n",
       "      <th>131</th>\n",
       "      <td>Timor-Leste</td>\n",
       "      <td>17.3</td>\n",
       "      <td>0.0</td>\n",
       "      <td>0.0</td>\n",
       "      <td>0.0</td>\n",
       "      <td>0.0</td>\n",
       "    </tr>\n",
       "    <tr>\n",
       "      <th>132</th>\n",
       "      <td>Togo</td>\n",
       "      <td>66.7</td>\n",
       "      <td>71.6</td>\n",
       "      <td>0.0</td>\n",
       "      <td>0.0</td>\n",
       "      <td>11.1</td>\n",
       "    </tr>\n",
       "    <tr>\n",
       "      <th>133</th>\n",
       "      <td>Tonga</td>\n",
       "      <td>57.8</td>\n",
       "      <td>0.0</td>\n",
       "      <td>0.0</td>\n",
       "      <td>27.8</td>\n",
       "      <td>5.6</td>\n",
       "    </tr>\n",
       "    <tr>\n",
       "      <th>134</th>\n",
       "      <td>Trinidad and Tobago</td>\n",
       "      <td>49.3</td>\n",
       "      <td>2.2</td>\n",
       "      <td>0.7</td>\n",
       "      <td>31.1</td>\n",
       "      <td>8.1</td>\n",
       "    </tr>\n",
       "    <tr>\n",
       "      <th>135</th>\n",
       "      <td>Tunisia</td>\n",
       "      <td>21.7</td>\n",
       "      <td>22.9</td>\n",
       "      <td>2.5</td>\n",
       "      <td>24.6</td>\n",
       "      <td>0.7</td>\n",
       "    </tr>\n",
       "    <tr>\n",
       "      <th>136</th>\n",
       "      <td>Turkey</td>\n",
       "      <td>0.0</td>\n",
       "      <td>14.9</td>\n",
       "      <td>1.9</td>\n",
       "      <td>23.4</td>\n",
       "      <td>38.0</td>\n",
       "    </tr>\n",
       "    <tr>\n",
       "      <th>137</th>\n",
       "      <td>Turkmenistan</td>\n",
       "      <td>21.3</td>\n",
       "      <td>0.0</td>\n",
       "      <td>0.0</td>\n",
       "      <td>0.0</td>\n",
       "      <td>0.0</td>\n",
       "    </tr>\n",
       "    <tr>\n",
       "      <th>138</th>\n",
       "      <td>Uganda</td>\n",
       "      <td>34.0</td>\n",
       "      <td>33.4</td>\n",
       "      <td>5.8</td>\n",
       "      <td>39.5</td>\n",
       "      <td>0.0</td>\n",
       "    </tr>\n",
       "    <tr>\n",
       "      <th>139</th>\n",
       "      <td>Ukraine</td>\n",
       "      <td>54.5</td>\n",
       "      <td>8.7</td>\n",
       "      <td>7.1</td>\n",
       "      <td>41.9</td>\n",
       "      <td>8.4</td>\n",
       "    </tr>\n",
       "    <tr>\n",
       "      <th>140</th>\n",
       "      <td>United Arab Emirates</td>\n",
       "      <td>46.2</td>\n",
       "      <td>5.5</td>\n",
       "      <td>1.5</td>\n",
       "      <td>24.3</td>\n",
       "      <td>14.2</td>\n",
       "    </tr>\n",
       "    <tr>\n",
       "      <th>141</th>\n",
       "      <td>United Kingdom of Great Britain and Northern I...</td>\n",
       "      <td>38.5</td>\n",
       "      <td>20.5</td>\n",
       "      <td>5.5</td>\n",
       "      <td>23.7</td>\n",
       "      <td>4.1</td>\n",
       "    </tr>\n",
       "    <tr>\n",
       "      <th>142</th>\n",
       "      <td>United Republic of Tanzania</td>\n",
       "      <td>63.9</td>\n",
       "      <td>22.7</td>\n",
       "      <td>8.0</td>\n",
       "      <td>29.9</td>\n",
       "      <td>0.8</td>\n",
       "    </tr>\n",
       "    <tr>\n",
       "      <th>143</th>\n",
       "      <td>United States of America</td>\n",
       "      <td>30.7</td>\n",
       "      <td>14.2</td>\n",
       "      <td>2.3</td>\n",
       "      <td>15.3</td>\n",
       "      <td>4.2</td>\n",
       "    </tr>\n",
       "    <tr>\n",
       "      <th>144</th>\n",
       "      <td>Uruguay</td>\n",
       "      <td>0.0</td>\n",
       "      <td>45.7</td>\n",
       "      <td>7.0</td>\n",
       "      <td>16.6</td>\n",
       "      <td>0.0</td>\n",
       "    </tr>\n",
       "    <tr>\n",
       "      <th>145</th>\n",
       "      <td>Viet Nam</td>\n",
       "      <td>52.2</td>\n",
       "      <td>0.0</td>\n",
       "      <td>0.0</td>\n",
       "      <td>0.0</td>\n",
       "      <td>0.0</td>\n",
       "    </tr>\n",
       "    <tr>\n",
       "      <th>146</th>\n",
       "      <td>Zambia</td>\n",
       "      <td>48.4</td>\n",
       "      <td>0.0</td>\n",
       "      <td>11.6</td>\n",
       "      <td>36.4</td>\n",
       "      <td>0.0</td>\n",
       "    </tr>\n",
       "    <tr>\n",
       "      <th>147</th>\n",
       "      <td>Zimbabwe</td>\n",
       "      <td>0.0</td>\n",
       "      <td>10.2</td>\n",
       "      <td>12.2</td>\n",
       "      <td>13.7</td>\n",
       "      <td>37.2</td>\n",
       "    </tr>\n",
       "  </tbody>\n",
       "</table>\n",
       "</div>"
      ],
      "text/plain": [
       "                                               Country  4wheeled_riders  \\\n",
       "C1                                                                        \n",
       "120                                       South Africa              0.0   \n",
       "121                                        South Sudan             46.5   \n",
       "122                                              Spain              6.2   \n",
       "123                                          Sri Lanka              0.0   \n",
       "124                                              Sudan             33.8   \n",
       "125                                           Suriname             53.7   \n",
       "126                                             Sweden             34.7   \n",
       "127                                        Switzerland             18.8   \n",
       "128                               Syrian Arab Republic             57.4   \n",
       "129                                         Tajikistan             12.3   \n",
       "130                                           Thailand             46.6   \n",
       "131                                        Timor-Leste             17.3   \n",
       "132                                               Togo             66.7   \n",
       "133                                              Tonga             57.8   \n",
       "134                                Trinidad and Tobago             49.3   \n",
       "135                                            Tunisia             21.7   \n",
       "136                                             Turkey              0.0   \n",
       "137                                       Turkmenistan             21.3   \n",
       "138                                             Uganda             34.0   \n",
       "139                                            Ukraine             54.5   \n",
       "140                               United Arab Emirates             46.2   \n",
       "141  United Kingdom of Great Britain and Northern I...             38.5   \n",
       "142                        United Republic of Tanzania             63.9   \n",
       "143                           United States of America             30.7   \n",
       "144                                            Uruguay              0.0   \n",
       "145                                           Viet Nam             52.2   \n",
       "146                                             Zambia             48.4   \n",
       "147                                           Zimbabwe              0.0   \n",
       "\n",
       "     3wheeled_riders  Cyclists  Pedestrians  Other  \n",
       "C1                                                  \n",
       "120              0.3       3.2          0.0   13.1  \n",
       "121              0.0       0.0         21.5    0.0  \n",
       "122             21.9       3.7         29.2    6.4  \n",
       "123             50.8       8.1         28.6    5.7  \n",
       "124              0.0       0.0         14.9   71.4  \n",
       "125             45.9       4.1         15.6    1.4  \n",
       "126             16.3       8.1          0.0    6.3  \n",
       "127             22.7      15.3         23.1    4.2  \n",
       "128              6.4       5.9         64.7    4.2  \n",
       "129              0.0       2.3         40.3    0.0  \n",
       "130             74.4       3.5          7.6    2.3  \n",
       "131              0.0       0.0          0.0    0.0  \n",
       "132             71.6       0.0          0.0   11.1  \n",
       "133              0.0       0.0         27.8    5.6  \n",
       "134              2.2       0.7         31.1    8.1  \n",
       "135             22.9       2.5         24.6    0.7  \n",
       "136             14.9       1.9         23.4   38.0  \n",
       "137              0.0       0.0          0.0    0.0  \n",
       "138             33.4       5.8         39.5    0.0  \n",
       "139              8.7       7.1         41.9    8.4  \n",
       "140              5.5       1.5         24.3   14.2  \n",
       "141             20.5       5.5         23.7    4.1  \n",
       "142             22.7       8.0         29.9    0.8  \n",
       "143             14.2       2.3         15.3    4.2  \n",
       "144             45.7       7.0         16.6    0.0  \n",
       "145              0.0       0.0          0.0    0.0  \n",
       "146              0.0      11.6         36.4    0.0  \n",
       "147             10.2      12.2         13.7   37.2  "
      ]
     },
     "execution_count": 181,
     "metadata": {},
     "output_type": "execute_result"
    }
   ],
   "source": [
    "df5=df.iloc[0:40,[0,2,3,4,5,6]]\n",
    "df5\n",
    "df6=df.iloc[41:80,[0,2,3,4,5,6]]\n",
    "df6\n",
    "df7=df.iloc[81:120,[0,2,3,4,5,6]]\n",
    "df7\n",
    "df8=df.iloc[120:,[0,2,3,4,5,6]]\n",
    "df8"
   ]
  },
  {
   "cell_type": "code",
   "execution_count": 190,
   "metadata": {},
   "outputs": [
    {
     "data": {
      "text/plain": [
       "Text(0, 0.5, '')"
      ]
     },
     "execution_count": 190,
     "metadata": {},
     "output_type": "execute_result"
    },
    {
     "data": {
      "image/png": "[encoded data removed]",
      "text/plain": [
       "<Figure size 1080x504 with 1 Axes>"
      ]
     },
     "metadata": {
      "needs_background": "light"
     },
     "output_type": "display_data"
    }
   ],
   "source": [
    "ax = df5.plot(kind=\"bar\", stacked=True,figsize=(15,7))\n",
    "plt.title(\"Distribution of road traffic deaths by type of road user (%)\")\n",
    "ax.set_xticklabels(df5['Country'], rotation=75)\n",
    "plt.xlabel(\"\")\n",
    "plt.ylabel(\"\")"
   ]
  },
  {
   "cell_type": "code",
   "execution_count": 191,
   "metadata": {},
   "outputs": [
    {
     "data": {
      "text/plain": [
       "Text(0, 0.5, '')"
      ]
     },
     "execution_count": 191,
     "metadata": {},
     "output_type": "execute_result"
    },
    {
     "data": {
      "image/png": "[encoded data removed]",
      "text/plain": [
       "<Figure size 1080x504 with 1 Axes>"
      ]
     },
     "metadata": {
      "needs_background": "light"
     },
     "output_type": "display_data"
    }
   ],
   "source": [
    "ax = df6.plot(kind=\"bar\", stacked=True,figsize=(15,7))\n",
    "plt.title(\"Distribution of road traffic deaths by type of road user (%)\")\n",
    "ax.set_xticklabels(df6['Country'], rotation=75)\n",
    "plt.xlabel(\"\")\n",
    "plt.ylabel(\"\")"
   ]
  },
  {
   "cell_type": "code",
   "execution_count": 189,
   "metadata": {},
   "outputs": [
    {
     "data": {
      "text/plain": [
       "Text(0, 0.5, '')"
      ]
     },
     "execution_count": 189,
     "metadata": {},
     "output_type": "execute_result"
    },
    {
     "data": {
      "image/png": "[encoded data removed]",
      "text/plain": [
       "<Figure size 1080x504 with 1 Axes>"
      ]
     },
     "metadata": {
      "needs_background": "light"
     },
     "output_type": "display_data"
    }
   ],
   "source": [
    "ax = df7.plot(kind=\"bar\", stacked=True,figsize=(15,7))\n",
    "plt.title(\"Distribution of road traffic deaths by type of road user (%)\")\n",
    "ax.set_xticklabels(df7['Country'], rotation=75)\n",
    "plt.xlabel(\"\")\n",
    "plt.ylabel(\"\")"
   ]
  },
  {
   "cell_type": "code",
   "execution_count": 188,
   "metadata": {},
   "outputs": [
    {
     "data": {
      "text/plain": [
       "Text(0, 0.5, '')"
      ]
     },
     "execution_count": 188,
     "metadata": {},
     "output_type": "execute_result"
    },
    {
     "data": {
      "image/png": "[encoded data removed]",
      "text/plain": [
       "<Figure size 1080x504 with 1 Axes>"
      ]
     },
     "metadata": {
      "needs_background": "light"
     },
     "output_type": "display_data"
    }
   ],
   "source": [
    "ax = df8.plot(kind=\"bar\", stacked=True,figsize=(15,7))\n",
    "plt.title(\"Distribution of road traffic deaths by type of road user (%)\")\n",
    "ax.set_xticklabels(df8['Country'], rotation=75)\n",
    "plt.xlabel(\"\")\n",
    "plt.ylabel(\"\")"
   ]
  },
  {
   "cell_type": "markdown",
   "metadata": {},
   "source": [
    "The data suggests that Palau has the most number of pedestrian deaths. It also suggests that the Cook Islands has the most number of deaths in the 3 wheeler category.\n",
    "Missing data and invalid data seems to be a major issue with this dataset. 4 wheeled data seems to be the only data point for Turkmenistan.\n",
    "Cyclists are the least popular road users. ;-) I wonder what all road users fall under \"Others\".\n"
   ]
  },
  {
   "cell_type": "code",
   "execution_count": null,
   "metadata": {},
   "outputs": [],
   "source": []
  }
 ],
 "metadata": {
  "kernelspec": {
   "display_name": "Python 3",
   "language": "python",
   "name": "python3"
  },
  "language_info": {
   "codemirror_mode": {
    "name": "ipython",
    "version": 3
   },
   "file_extension": ".py",
   "mimetype": "text/x-python",
   "name": "python",
   "nbconvert_exporter": "python",
   "pygments_lexer": "ipython3",
   "version": "3.7.7"
  }
 },
 "nbformat": 4,
 "nbformat_minor": 4
}
