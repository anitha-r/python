{
 "cells": [
  {
   "cell_type": "code",
   "execution_count": 47,
   "metadata": {},
   "outputs": [],
   "source": [
    "##Inspired by https://towardsdatascience.com/automate-excel-reporting-with-python-233dd61fb0f2\n",
    "import pandas as pd\n",
    "\n",
    "from openpyxl import load_workbook\n",
    "from openpyxl.styles import Font\n",
    "from openpyxl.chart import BarChart, Reference\n",
    "from openpyxl.chart.layout import Layout, ManualLayout"
   ]
  },
  {
   "cell_type": "code",
   "execution_count": 48,
   "metadata": {},
   "outputs": [
    {
     "name": "stdout",
     "output_type": "stream",
     "text": [
      "  Order Date    Sales            Product Sub-Category Customer Segment  \\\n",
      "0 2009-01-18  2842.54  Binders and Binder Accessories        Corporate   \n",
      "1 2009-01-27    55.89                    Rubber Bands        Corporate   \n",
      "2 2009-02-04  1441.57            Computer Peripherals        Corporate   \n",
      "3 2009-02-22  1633.37             Pens & Art Supplies        Corporate   \n",
      "4 2009-04-20   225.94            Computer Peripherals        Corporate   \n",
      "\n",
      "  Product Category  \n",
      "0  Office Supplies  \n",
      "1  Office Supplies  \n",
      "2       Technology  \n",
      "3  Office Supplies  \n",
      "4       Technology  \n"
     ]
    }
   ],
   "source": [
    "df = pd.read_excel('TestSalesdata.xlsx', parse_dates=['Order Date'])\n",
    "print(df.head())"
   ]
  },
  {
   "cell_type": "code",
   "execution_count": 28,
   "metadata": {},
   "outputs": [
    {
     "name": "stdout",
     "output_type": "stream",
     "text": [
      "Order Date              datetime64[ns]\n",
      "Sales                          float64\n",
      "Product Sub-Category            object\n",
      "Customer Segment                object\n",
      "Product Category                object\n",
      "dtype: object\n"
     ]
    }
   ],
   "source": [
    "print(df.dtypes)"
   ]
  },
  {
   "cell_type": "code",
   "execution_count": 55,
   "metadata": {
    "scrolled": true
   },
   "outputs": [
    {
     "name": "stdout",
     "output_type": "stream",
     "text": [
      "Quarterly Sales Pivot Table:\n",
      "Product Sub-Category  Computer Peripherals  Copiers and Fax  Office Machines  \\\n",
      "Order Date                                                                     \n",
      "1                                 52123.32         32003.59        393451.34   \n",
      "2                                 76734.12          9138.39         63146.36   \n",
      "3                                 34772.86         68792.00        153569.91   \n",
      "4                                 51934.77        163352.88        122337.84   \n",
      "\n",
      "Product Sub-Category  Telephones and Communication  \n",
      "Order Date                                          \n",
      "1                                       86287.9370  \n",
      "2                                       95025.7160  \n",
      "3                                      175163.8095  \n",
      "4                                      123990.6390  \n"
     ]
    }
   ],
   "source": [
    "filtered = df[df['Product Category'] == 'Technology']\n",
    "quarterly_sales = pd.pivot_table(filtered, index = filtered['Order Date'].dt.quarter, columns = 'Product Sub-Category', values = 'Sales', aggfunc='sum')\n",
    "\n",
    "print(\"Quarterly Sales Pivot Table:\")\n",
    "print(quarterly_sales.head())"
   ]
  },
  {
   "cell_type": "code",
   "execution_count": 56,
   "metadata": {},
   "outputs": [],
   "source": [
    "quarterly_sales.to_excel( \"QuarterlySales.xlsx\", engine='xlsxwriter', startrow=3, sheet_name=\"Quarterly Sales\")"
   ]
  },
  {
   "cell_type": "code",
   "execution_count": 57,
   "metadata": {},
   "outputs": [],
   "source": [
    "wb = load_workbook(\"QuarterlySales.xlsx\")\n",
    "sheet1 = wb['Quarterly Sales']\n",
    "\n",
    "#Format the First Sheet\n",
    "sheet1['A1'] = 'Quarterly Sales'\n",
    "sheet1['A4'] = 'Quarter'\n",
    "\n",
    "sheet1['A1'].style = 'Title'\n",
    "sheet1['A2'].style = 'Headline 2'\n",
    "\n",
    "for i in range(5, 9):\n",
    "    sheet1[f'B{i}'].style='Currency'\n",
    "    sheet1[f'C{i}'].style='Currency'\n",
    "    sheet1[f'D{i}'].style='Currency'\n",
    "    sheet1[f'E{i}'].style='Currency'\n",
    "\n",
    "#Add the Bar Chart\n",
    "bar_chart = BarChart()\n",
    "data = Reference(sheet1, min_col=2, max_col=5, min_row=4, max_row=8)\n",
    "categories = Reference(sheet1, min_col=1, max_col=1, min_row=5, max_row=8)\n",
    "bar_chart.add_data(data, titles_from_data=True)\n",
    "bar_chart.set_categories(categories)\n",
    "bar_chart.style = 12\n",
    "bar_chart.y_axis.title = 'Product Category'\n",
    "bar_chart.x_axis.title = 'Quarter'\n",
    "bar_chart.legend.position = 'b'\n",
    "sheet1.add_chart(bar_chart, \"F4\")\n",
    "\n",
    "bar_chart.title = 'Sales by Product Category'\n",
    "\n",
    "\n",
    "from copy import deepcopy\n",
    "\n",
    "hbar_chart = deepcopy(bar_chart)\n",
    "hbar_chart.style = 13\n",
    "hbar_chart.type = \"bar\"\n",
    "hbar_chart.title = \"Horizontal Bar Chart\"\n",
    "hbar_chart.layout = Layout(\n",
    "    ManualLayout(\n",
    "    x=0.25, y=0.25,\n",
    "    h=0.5, w=0.5,\n",
    "    xMode=\"edge\",\n",
    "    yMode=\"edge\",\n",
    "    )\n",
    ")\n",
    "\n",
    "sheet1.add_chart(hbar_chart, \"O4\")\n",
    "\n",
    "wb.save(\"QuarterlySales.xlsx\")"
   ]
  },
  {
   "cell_type": "code",
   "execution_count": null,
   "metadata": {},
   "outputs": [],
   "source": []
  }
 ],
 "metadata": {
  "kernelspec": {
   "display_name": "Python 3",
   "language": "python",
   "name": "python3"
  },
  "language_info": {
   "codemirror_mode": {
    "name": "ipython",
    "version": 3
   },
   "file_extension": ".py",
   "mimetype": "text/x-python",
   "name": "python",
   "nbconvert_exporter": "python",
   "pygments_lexer": "ipython3",
   "version": "3.7.7"
  }
 },
 "nbformat": 4,
 "nbformat_minor": 4
}
