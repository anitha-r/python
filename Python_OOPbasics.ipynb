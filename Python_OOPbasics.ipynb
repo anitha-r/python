{
 "cells": [
  {
   "cell_type": "markdown",
   "metadata": {},
   "source": [
    "Different ways of slicing lists"
   ]
  },
  {
   "cell_type": "code",
   "execution_count": 83,
   "metadata": {},
   "outputs": [
    {
     "name": "stdout",
     "output_type": "stream",
     "text": [
      "[12, 14, 23, 67, 90, 7]\n"
     ]
    }
   ],
   "source": [
    "List1 = [12,14,23,67,90,7]\n",
    "#print the list\n",
    "print(List1[::])"
   ]
  },
  {
   "cell_type": "code",
   "execution_count": 9,
   "metadata": {},
   "outputs": [
    {
     "name": "stdout",
     "output_type": "stream",
     "text": [
      "[23, 67, 90]\n",
      "[23, 67]\n",
      "12\n",
      "7\n"
     ]
    },
    {
     "data": {
      "text/plain": [
       "list"
      ]
     },
     "execution_count": 9,
     "metadata": {},
     "output_type": "execute_result"
    }
   ],
   "source": [
    "#use the list index , in this case, index values range from 0 to 5 or -1 to \n",
    "#print a slice of the list starting with element at index 2 and all the elements excluding index 5\n",
    "print(List1[2:5])\n",
    "#print a slice of the list starting with element at index 2 and all the elements excluding index -2\n",
    "print(List1[2:-2])\n",
    "#print a slice of the list at index -6\n",
    "print(List1[-6])\n",
    "print(List1[-1])\n",
    "#print type of object\n",
    "type(List1[0:1])"
   ]
  },
  {
   "cell_type": "code",
   "execution_count": 51,
   "metadata": {},
   "outputs": [
    {
     "name": "stdout",
     "output_type": "stream",
     "text": [
      "entire list: [12, 14, 23, 67, 90, 7]\n",
      "[23, 12]\n",
      "[14, 67, 7]\n",
      "[7, 67, 14]\n",
      "[]\n"
     ]
    },
    {
     "data": {
      "text/plain": [
       "list"
      ]
     },
     "execution_count": 51,
     "metadata": {},
     "output_type": "execute_result"
    }
   ],
   "source": [
    "#print every element in the list\n",
    "print(\"entire list:\" , List1[::])\n",
    "#print a slice of the list in reverse\n",
    "#starting with the element at index 2 and every second element in the reverse direction\n",
    "print(List1[2::-2])\n",
    "#the optional values are start, stop and step for traversing the list\n",
    "#default values for start is 0. for stop is length of the list. for step is 1.\n",
    "#a negative step means list is traversed in the reverse direction\n",
    "print(List1[1:7:2])\n",
    "print(List1[:-9:-2])\n",
    "#print empty list when there is nothing to traverse\n",
    "print(List1[:5:-3])\n",
    "#returns an object of type list\n",
    "type(List1[2::-2])"
   ]
  },
  {
   "cell_type": "code",
   "execution_count": 54,
   "metadata": {},
   "outputs": [
    {
     "name": "stdout",
     "output_type": "stream",
     "text": [
      "[12, 14, 23, 67, 90, 7]\n",
      "[12, 14, 999, 304, 90, 7]\n"
     ]
    }
   ],
   "source": [
    "#modify the list at certain indexes\n",
    "print(List1[::])\n",
    "List1[2:4] = [999,304]\n",
    "print(List1[::])"
   ]
  },
  {
   "cell_type": "code",
   "execution_count": 57,
   "metadata": {},
   "outputs": [
    {
     "name": "stdout",
     "output_type": "stream",
     "text": [
      "[12, 14, 999, 304, 90, 7]\n",
      "[999, 304, 90, 7]\n"
     ]
    }
   ],
   "source": [
    "#modify the list - set the first elements to empty\n",
    "print(List1[::])\n",
    "List1[:2]=[]\n",
    "print(List1[::])"
   ]
  },
  {
   "cell_type": "code",
   "execution_count": 84,
   "metadata": {},
   "outputs": [
    {
     "name": "stdout",
     "output_type": "stream",
     "text": [
      "[12, 14, 23, 14, 23, 67]\n"
     ]
    }
   ],
   "source": [
    "#modify the list to create a new list\n",
    "List2 = List1[:3] + List1[-5:-2]\n",
    "print(List2[::])"
   ]
  }
 ],
 "metadata": {
  "kernelspec": {
   "display_name": "Python 3",
   "language": "python",
   "name": "python3"
  },
  "language_info": {
   "codemirror_mode": {
    "name": "ipython",
    "version": 3
   },
   "file_extension": ".py",
   "mimetype": "text/x-python",
   "name": "python",
   "nbconvert_exporter": "python",
   "pygments_lexer": "ipython3",
   "version": "3.7.7"
  }
 },
 "nbformat": 4,
 "nbformat_minor": 4
}
